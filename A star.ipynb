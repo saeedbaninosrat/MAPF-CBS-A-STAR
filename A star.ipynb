{
 "cells": [
  {
   "cell_type": "markdown",
   "metadata": {},
   "source": [
    "# Dictionaries"
   ]
  },
  {
   "cell_type": "code",
   "execution_count": 716,
   "metadata": {},
   "outputs": [],
   "source": [
    "import plotly.express as px\n",
    "import random"
   ]
  },
  {
   "cell_type": "markdown",
   "metadata": {},
   "source": [
    "# Classes and functions"
   ]
  },
  {
   "cell_type": "markdown",
   "metadata": {},
   "source": [
    "#### Node"
   ]
  },
  {
   "cell_type": "code",
   "execution_count": 717,
   "metadata": {},
   "outputs": [],
   "source": [
    "class Node():\n",
    "    \n",
    "    def __init__(self, parent=None, position=None):\n",
    "        self.parent = parent\n",
    "        self.position = position\n",
    "\n",
    "        self.g = 0\n",
    "        self.h = 0\n",
    "        self.f = 0\n",
    "\n",
    "    def __eq__(self, other):\n",
    "        return self.position == other.position\n",
    "    \n",
    "    def __repr__(self) -> str:\n",
    "        return f\"{self.position}\"\n"
   ]
  },
  {
   "cell_type": "markdown",
   "metadata": {},
   "source": [
    "#### Agent"
   ]
  },
  {
   "cell_type": "code",
   "execution_count": 718,
   "metadata": {},
   "outputs": [],
   "source": [
    "class Agent:\n",
    "    def __init__(self, start_position, end_position):\n",
    "        self.start_node = Node(None, start_position)\n",
    "        self.end_node = Node(None, end_position)\n",
    "        self.current_node = Node(None, start_position)\n",
    "\n",
    "        self.open_list = []\n",
    "        self.close_list = []\n",
    "        self.path = []"
   ]
  },
  {
   "cell_type": "markdown",
   "metadata": {},
   "source": [
    "#### Random points Generator"
   ]
  },
  {
   "cell_type": "code",
   "execution_count": 719,
   "metadata": {},
   "outputs": [],
   "source": [
    "# Define a function to generate random start and end points\n",
    "def generate_random_points(maze_size):\n",
    "    while True:\n",
    "        start_x = random.randint(0, maze_size - 1)\n",
    "        start_y = random.randint(0, maze_size - 1)\n",
    "        end_x = random.randint(0, maze_size - 1)\n",
    "        end_y = random.randint(0, maze_size - 1)\n",
    "        if (start_x, start_y) != (end_x, end_y):\n",
    "            return (start_x, start_y), (end_x, end_y)\n"
   ]
  },
  {
   "cell_type": "markdown",
   "metadata": {},
   "source": [
    "#### Agent Generator"
   ]
  },
  {
   "cell_type": "code",
   "execution_count": 720,
   "metadata": {},
   "outputs": [],
   "source": [
    "def generate_agents(number_of_agents, maze_size):\n",
    "    \n",
    "    agents = []\n",
    "    for _ in range(number_of_agents):\n",
    "        # Update start and end points for each agent\n",
    "        start, end = generate_random_points(maze_size)\n",
    "        agent = Agent(start, end)\n",
    "        agents.append(agent)\n",
    "    return agents\n"
   ]
  },
  {
   "cell_type": "markdown",
   "metadata": {},
   "source": [
    "#### Check if all agents arrived"
   ]
  },
  {
   "cell_type": "code",
   "execution_count": 721,
   "metadata": {},
   "outputs": [],
   "source": [
    "def reach_final(agents):\n",
    "    for agent in agents:\n",
    "        if agent.current_node != agent.end_node:\n",
    "            return(False)\n",
    "    return(True)"
   ]
  },
  {
   "cell_type": "markdown",
   "metadata": {},
   "source": [
    "# Main Code"
   ]
  },
  {
   "cell_type": "code",
   "execution_count": 722,
   "metadata": {},
   "outputs": [],
   "source": [
    "def astar(maze, agents):\n",
    "    \n",
    "    # Check if Start and End positions are the same\n",
    "    counter = 0\n",
    "    for agent in agents:\n",
    "        counter += 1\n",
    "        if(agent.start_node.position == agent.end_node.position):\n",
    "            raise Exception(\"Start and End positions of Agent \" + str(counter) +\" are same\")\n",
    "        \n",
    "\n",
    "\n",
    "    new_maze = maze\n",
    "    maze_x = len(maze)-1\n",
    "    maze_y = len(maze[0])-1\n",
    "    \n",
    "    counter = 0\n",
    "    for agent in agents:\n",
    "        counter += 1\n",
    "        if(maze[agent.start_node.position[0]][agent.start_node.position[1]] == 0): \n",
    "            raise Exception(\"Start position of Agent \"+str(counter)+ \" is on Block in the position: \" )\n",
    "        if(maze[agent.end_node.position[0]][agent.end_node.position[1]] == 0): \n",
    "            raise Exception(\"End position of Agent \"+str(counter)+\" is on Block in the position: \")\n",
    "    \n",
    "\n",
    "    # Add the agent startnode\n",
    "    counter = 0\n",
    "    for agent in agents:\n",
    "        counter += 1\n",
    "        agent.path.append(agent.current_node)\n",
    "        # print(\"Agent \"+ str(counter)  + \" is at: \", agent.current_node.position, \"With the cost of :\" , agent.current_node.g , \"Till now and the heuristic of: \" , agent.current_node.h)\n",
    "        agent.close_list.append(agent.start_node)\n",
    "\n",
    "    # Loop until you find the end\n",
    "    while True:\n",
    "        # Found the goal\n",
    "        if reach_final(agents):\n",
    "            final_paths = []\n",
    "            \n",
    "            for agent in agents:\n",
    "                final_path = []  \n",
    "                goal = agent.path[-1]\n",
    "                while goal is not None:\n",
    "                    final_path.append(goal)\n",
    "                    goal = goal.parent\n",
    "                final_paths.append(final_path)\n",
    "\n",
    "            for i in range(len(final_paths)):\n",
    "                final_paths[i] = final_paths[i][::-1]\n",
    "            \n",
    "            try:\n",
    "                longest_list_length = max(map(len, final_paths))\n",
    "                print(\"Longest list length\", longest_list_length)\n",
    "                index_position_agents_conflicts_map = {}\n",
    "                for index in range(longest_list_length):\n",
    "                    index_position_agents_conflicts_map[index] = {}\n",
    "                    conflict_node_map = {}\n",
    "                    for list_index, list_context in enumerate(final_paths, 0):\n",
    "                        if index < len(list_context) - 1:\n",
    "                            element = list_context[index]\n",
    "                            if element.parent.position not in conflict_node_map:\n",
    "                                conflict_node_map[element.parent.position] = []\n",
    "                            conflict_node_map[element.parent.position].append(list_index)\n",
    "                    for conflict_position,conflict_position_agents in conflict_node_map.items():\n",
    "                        if len(conflict_position_agents) > 1:\n",
    "                            index_position_agents_conflicts_map[index][conflict_position] = conflict_position_agents\n",
    "                    # print(index, index_position_agents_conflicts_map[index])\n",
    "            except:\n",
    "                print(\"An exception occurred on index \", index)\n",
    "                \n",
    "            for index_postions_agents_conflicts in index_position_agents_conflicts_map.items():\n",
    "                conflict_node_parent_index = index_postions_agents_conflicts[0]\n",
    "                if len(index_postions_agents_conflicts[1]) > 0:  \n",
    "                    list_of_heuroestics = []\n",
    "                    counter = -2\n",
    "                    for conflict_position,conflict_position_agents in index_postions_agents_conflicts[1].items():\n",
    "                        for conflicted_agent in conflict_position_agents:\n",
    "                            counter += 1\n",
    "                            list_of_heuroestics.append(final_paths[conflicted_agent][conflict_node_parent_index].h)\n",
    "                        x = list_of_heuroestics.index(min(list_of_heuroestics))\n",
    "                        stay_node = Node(final_paths[x + counter][conflict_node_parent_index], final_paths[x + counter][conflict_node_parent_index].position)\n",
    "                        final_paths[x + counter][conflict_node_parent_index] = stay_node\n",
    "                        final_paths[x + counter].insert(conflict_node_parent_index, stay_node)\n",
    "                        \n",
    "                \n",
    "            final_path_primes = []    \n",
    "                    \n",
    "            for final_path in final_paths:\n",
    "                final_path_prime = []\n",
    "                goal = final_path[-1]\n",
    "                while goal is not None:\n",
    "                    final_path_prime.append(goal)\n",
    "                    goal = goal.parent\n",
    "                final_path_primes.append(final_path)\n",
    "\n",
    "            counter = 2\n",
    "            for final_path_prime in final_path_primes:\n",
    "                final_path_prime = final_path_prime[::-1]\n",
    "                print(\"agent \", counter - 1,\" has the path\",final_path_prime) # Print reversed path\n",
    "                for path_position in final_path_prime:\n",
    "                    new_maze[path_position.position[0]][path_position.position[1]] = counter * 2\n",
    "                counter +=1\n",
    "            \n",
    "            return(new_maze)\n",
    "        \n",
    "        counter = 1\n",
    "        for agent in agents:\n",
    "            counter += 1\n",
    "            if agent.current_node != agent.end_node:\n",
    "            # Generate children\n",
    "                for new_position in [(0, -1), (0, 1), (-1, 0), (1, 0),(-1, -1), (1, 1), (-1, 1), (1, -1)]: # Adjacent squares\n",
    "\n",
    "                    # Get node position\n",
    "                    adjacent_position = (agent.current_node.position[0] + new_position[0], agent.current_node.position[1] + new_position[1])\n",
    "\n",
    "                    # Make sure within range\n",
    "                    if adjacent_position[0] > maze_x or adjacent_position[0] < 0 or adjacent_position[1] > maze_y or adjacent_position[1] < 0:\n",
    "                        continue\n",
    "\n",
    "                    # Make sure walkable terrain\n",
    "                    if maze[adjacent_position[0]][adjacent_position[1]] == 0:\n",
    "                        continue\n",
    "\n",
    "                    # Create new node\n",
    "                    new_node = Node(agent.current_node, adjacent_position)\n",
    "\n",
    "            \n",
    "                    # Child is on the closed list\n",
    "                    if new_node in agent.close_list:\n",
    "                        continue\n",
    "\n",
    "                    # Create the f, g, and h values\n",
    "                    new_node.g = agent.current_node.g + 1\n",
    "                    new_node.h = ((new_node.position[0] - agent.end_node.position[0]) ** 2) + ((new_node.position[1] - agent.end_node.position[1]) ** 2)\n",
    "                    new_node.f = new_node.g + new_node.h\n",
    "\n",
    "    \n",
    "                    # new_node is already in the open list\n",
    "                    if new_node not in agent.close_list:\n",
    "                        if new_node in agent.open_list:\n",
    "                            conflicted_agent = agent.open_list.index(new_node)\n",
    "                            duplicated = agent.open_list[conflicted_agent]\n",
    "                            if new_node.g < duplicated.g:\n",
    "                                agent.open_list.append(new_node)\n",
    "                        else:\n",
    "                            agent.open_list.append(new_node)\n",
    "            \n",
    "            if len(agent.open_list) > 0 and agent.current_node != agent.end_node:\n",
    "                # Get the agent 1 current node\n",
    "                agent.current_node = agent.open_list[0]\n",
    "                for item in agent.open_list:\n",
    "                    # print(\"openList:\" ,item.position[0],  item.position[1] )\n",
    "                    # new_maze[item.position[0]][item.position[1]] = (counter * 2) + 1 # change openlist items colors\n",
    "                    if item.f < agent.current_node.f:\n",
    "                        agent.current_node = item\n",
    "                # print(\"Agent \", counter - 1 ,\" is at: \", agent.current_node.position, \"With the cost of :\" , agent.current_node.g , \"Till now and the heuristic of: \" , agent.current_node.h)\n",
    "                # Pop current off open list, add to closed list\n",
    "                agent.open_list.remove(agent.current_node)\n",
    "                agent.path.append(agent.current_node)\n",
    "                agent.close_list.append(agent.current_node)"
   ]
  },
  {
   "cell_type": "code",
   "execution_count": 723,
   "metadata": {},
   "outputs": [],
   "source": [
    "def create_maze(maze_size, zeros_number):\n",
    "    # Define the size of the maze\n",
    "    maze_size = 15\n",
    "\n",
    "    # Create a new maze with all fives\n",
    "    new_maze = [[5] * maze_size for _ in range(maze_size)]\n",
    "\n",
    "    # Generate 20 random coordinates and set them to zero\n",
    "    zeros_number = 20\n",
    "    zeros_generated = 0\n",
    "\n",
    "    while zeros_generated < zeros_number:\n",
    "        x = random.randint(0, maze_size - 1)\n",
    "        y = random.randint(0, maze_size - 1)\n",
    "        if new_maze[x][y] == 5:\n",
    "            new_maze[x][y] = 0\n",
    "            zeros_generated += 1\n",
    "    maze = []\n",
    "    # Print the new maze\n",
    "    for row in new_maze:\n",
    "        maze.append(row)\n",
    "    return maze\n"
   ]
  },
  {
   "cell_type": "code",
   "execution_count": 724,
   "metadata": {},
   "outputs": [],
   "source": [
    "def main():\n",
    "\n",
    "    maze = [[5, 5, 5, 5, 5, 5, 5, 5, 5, 5, 5, 5, 5, 5, 5],\n",
    "            [5, 5, 5, 5, 5, 5, 5, 5, 5, 5, 5, 5, 5, 5, 5],\n",
    "            [5, 5, 5, 5, 5, 5, 5, 5, 5, 5, 5, 5, 5, 5, 5],\n",
    "            [5, 5, 5, 5, 5, 5, 5, 5, 5, 5, 5, 5, 5, 5, 5],\n",
    "            [5, 5, 5, 5, 5, 5, 5, 5, 5, 5, 5, 5, 5, 5, 5],\n",
    "            [5, 5, 5, 5, 5, 5, 5, 5, 5, 5, 5, 5, 5, 5, 5],\n",
    "            [5, 5, 5, 5, 5, 5, 5, 5, 5, 5, 5, 5, 5, 5, 5],\n",
    "            [5, 5, 5, 5, 5, 5, 5, 5, 5, 5, 5, 5, 5, 5, 5],\n",
    "            [5, 5, 5, 5, 5, 5, 5, 5, 5, 5, 5, 5, 5, 5, 5],\n",
    "            [5, 5, 5, 5, 5, 5, 5, 5, 5, 5, 5, 5, 5, 5, 5],\n",
    "            [5, 5, 5, 5, 5, 5, 5, 5, 5, 5, 5, 5, 5, 5, 5],\n",
    "            [5, 5, 5, 5, 5, 5, 5, 5, 5, 5, 5, 5, 5, 5, 5],\n",
    "            [5, 5, 5, 5, 5, 5, 5, 5, 5, 5, 5, 5, 5, 5, 5],\n",
    "            [5, 5, 5, 5, 5, 5, 5, 5, 5, 5, 5, 5, 5, 5, 5],\n",
    "            [5, 5, 5, 5, 5, 5, 5, 5, 5, 5, 5, 5, 5, 5, 5]]\n",
    "    maze_size = 15\n",
    "    zeros_number = 40\n",
    "    number_of_agents = 20\n",
    "    # maze = create_maze(maze_size, zeros_number)\n",
    "    agents = generate_agents(number_of_agents, maze_size)\n",
    "    for agent in agents:\n",
    "        print(\"start and end positions of agent \",agents.index(agent) + 1,\"is: \",agent.start_node.position, agent.end_node.position)\n",
    "\n",
    "    agents[0] = Agent((10, 8) ,(9, 3))\n",
    "    agents[0] = Agent((10, 8) ,(9, 3))\n",
    "    new_maze = astar(maze, agents)\n",
    "    \n",
    "    \n",
    "\n",
    "    fig = px.imshow(new_maze, color_continuous_midpoint=0.0 , range_color= [-10,42], color_continuous_scale = 'Picnic' )\n",
    "    fig.show()\n"
   ]
  },
  {
   "cell_type": "code",
   "execution_count": 725,
   "metadata": {},
   "outputs": [
    {
     "name": "stdout",
     "output_type": "stream",
     "text": [
      "start and end positions of agent  1 is:  (1, 2) (12, 7)\n",
      "start and end positions of agent  2 is:  (0, 13) (5, 4)\n",
      "start and end positions of agent  3 is:  (8, 8) (0, 14)\n",
      "start and end positions of agent  4 is:  (10, 7) (0, 10)\n",
      "start and end positions of agent  5 is:  (13, 4) (0, 5)\n",
      "start and end positions of agent  6 is:  (11, 13) (4, 14)\n",
      "start and end positions of agent  7 is:  (10, 10) (5, 3)\n",
      "start and end positions of agent  8 is:  (13, 1) (2, 3)\n",
      "start and end positions of agent  9 is:  (1, 11) (9, 11)\n",
      "start and end positions of agent  10 is:  (14, 7) (12, 11)\n",
      "start and end positions of agent  11 is:  (13, 8) (7, 5)\n",
      "start and end positions of agent  12 is:  (13, 5) (8, 14)\n",
      "start and end positions of agent  13 is:  (4, 2) (8, 9)\n",
      "start and end positions of agent  14 is:  (12, 0) (6, 13)\n",
      "start and end positions of agent  15 is:  (3, 10) (2, 0)\n",
      "start and end positions of agent  16 is:  (8, 7) (6, 10)\n",
      "start and end positions of agent  17 is:  (10, 10) (6, 14)\n",
      "start and end positions of agent  18 is:  (7, 11) (6, 2)\n",
      "start and end positions of agent  19 is:  (14, 0) (0, 2)\n",
      "start and end positions of agent  20 is:  (11, 13) (4, 3)\n",
      "Longest list length 15\n",
      "An exception occurred on index  0\n",
      "agent  1  has the path [(9, 3), (9, 4), (9, 5), (9, 6), (9, 7), (10, 8)]\n",
      "agent  2  has the path [(5, 4), (5, 5), (5, 6), (5, 7), (5, 8), (4, 9), (3, 10), (2, 11), (1, 12), (0, 13)]\n",
      "agent  3  has the path [(0, 14), (1, 14), (2, 14), (3, 13), (4, 12), (5, 11), (6, 10), (7, 9), (8, 8)]\n",
      "agent  4  has the path [(0, 10), (1, 10), (2, 10), (3, 10), (4, 10), (5, 10), (6, 10), (7, 10), (8, 9), (9, 8), (10, 7)]\n",
      "agent  5  has the path [(0, 5), (1, 5), (2, 5), (3, 5), (4, 5), (5, 5), (6, 5), (7, 5), (8, 5), (9, 5), (10, 5), (11, 5), (12, 5), (13, 4)]\n",
      "agent  6  has the path [(4, 14), (5, 14), (6, 14), (7, 14), (8, 14), (9, 14), (10, 14), (11, 13)]\n",
      "agent  7  has the path [(5, 3), (5, 4), (5, 5), (6, 6), (7, 7), (8, 8), (9, 9), (10, 10)]\n",
      "agent  8  has the path [(2, 3), (3, 3), (4, 3), (5, 3), (6, 3), (7, 3), (8, 3), (9, 3), (10, 3), (11, 3), (12, 2), (13, 1)]\n",
      "agent  9  has the path [(9, 11), (8, 11), (7, 11), (6, 11), (5, 11), (4, 11), (3, 11), (2, 11), (1, 11)]\n",
      "agent  10  has the path [(12, 11), (12, 10), (12, 9), (13, 8), (14, 7)]\n",
      "agent  11  has the path [(7, 5), (8, 5), (9, 5), (10, 5), (11, 6), (12, 7), (13, 8)]\n",
      "agent  12  has the path [(8, 14), (8, 13), (8, 12), (8, 11), (8, 10), (9, 9), (10, 8), (11, 7), (12, 6), (13, 5)]\n",
      "agent  13  has the path [(8, 9), (8, 8), (8, 7), (8, 6), (7, 5), (6, 4), (5, 3), (4, 2)]\n",
      "agent  14  has the path [(6, 13), (6, 12), (6, 11), (6, 10), (6, 9), (6, 8), (6, 7), (6, 6), (7, 5), (8, 4), (9, 3), (10, 2), (11, 1), (12, 0)]\n",
      "agent  15  has the path [(2, 0), (2, 1), (2, 2), (2, 3), (2, 4), (2, 5), (2, 6), (2, 7), (2, 8), (2, 9), (3, 10)]\n",
      "agent  16  has the path [(6, 10), (6, 9), (7, 8), (8, 7)]\n",
      "agent  17  has the path [(6, 14), (7, 13), (8, 12), (9, 11), (10, 10)]\n",
      "agent  18  has the path [(6, 2), (6, 3), (6, 4), (6, 5), (6, 6), (6, 7), (6, 8), (6, 9), (6, 10), (7, 11)]\n",
      "agent  19  has the path [(0, 2), (1, 2), (2, 2), (3, 2), (4, 2), (5, 2), (6, 2), (7, 2), (8, 2), (9, 2), (10, 2), (11, 2), (12, 2), (13, 1), (14, 0)]\n",
      "agent  20  has the path [(4, 3), (4, 4), (4, 5), (4, 6), (5, 7), (6, 8), (7, 9), (8, 10), (9, 11), (10, 12), (11, 13)]\n"
     ]
    },
    {
     "data": {
      "application/vnd.plotly.v1+json": {
       "config": {
        "plotlyServerURL": "https://plot.ly"
       },
       "data": [
        {
         "coloraxis": "coloraxis",
         "hovertemplate": "x: %{x}<br>y: %{y}<br>color: %{z}<extra></extra>",
         "name": "0",
         "type": "heatmap",
         "xaxis": "x",
         "yaxis": "y",
         "z": [
          [
           5,
           5,
           40,
           5,
           5,
           12,
           5,
           5,
           5,
           5,
           10,
           5,
           5,
           6,
           8
          ],
          [
           5,
           5,
           40,
           5,
           5,
           12,
           5,
           5,
           5,
           5,
           10,
           20,
           6,
           5,
           8
          ],
          [
           32,
           32,
           40,
           32,
           32,
           32,
           32,
           32,
           32,
           32,
           10,
           20,
           5,
           5,
           8
          ],
          [
           5,
           5,
           40,
           18,
           5,
           12,
           5,
           5,
           5,
           5,
           32,
           20,
           5,
           8,
           5
          ],
          [
           5,
           5,
           40,
           42,
           42,
           42,
           42,
           5,
           5,
           6,
           10,
           20,
           8,
           5,
           14
          ],
          [
           5,
           5,
           40,
           28,
           16,
           16,
           6,
           42,
           6,
           5,
           10,
           20,
           5,
           5,
           14
          ],
          [
           5,
           5,
           40,
           38,
           38,
           38,
           38,
           38,
           42,
           38,
           38,
           30,
           30,
           30,
           36
          ],
          [
           5,
           5,
           40,
           18,
           5,
           30,
           5,
           16,
           34,
           42,
           10,
           38,
           5,
           36,
           14
          ],
          [
           5,
           5,
           40,
           18,
           30,
           24,
           28,
           34,
           28,
           28,
           42,
           26,
           36,
           26,
           26
          ],
          [
           5,
           5,
           40,
           30,
           4,
           24,
           4,
           4,
           10,
           26,
           5,
           42,
           5,
           5,
           14
          ],
          [
           5,
           5,
           40,
           18,
           5,
           24,
           5,
           10,
           26,
           5,
           36,
           5,
           42,
           5,
           14
          ],
          [
           5,
           30,
           40,
           18,
           5,
           12,
           24,
           26,
           5,
           5,
           5,
           5,
           5,
           42,
           5
          ],
          [
           30,
           5,
           40,
           5,
           5,
           12,
           26,
           24,
           5,
           22,
           22,
           22,
           5,
           5,
           5
          ],
          [
           5,
           40,
           5,
           5,
           12,
           26,
           5,
           5,
           24,
           5,
           5,
           5,
           5,
           5,
           5
          ],
          [
           40,
           5,
           5,
           5,
           5,
           5,
           5,
           22,
           5,
           5,
           5,
           5,
           5,
           5,
           5
          ]
         ]
        }
       ],
       "layout": {
        "coloraxis": {
         "cmax": 42,
         "cmid": 0,
         "cmin": -10,
         "colorscale": [
          [
           0,
           "rgb(0,0,255)"
          ],
          [
           0.1,
           "rgb(51,153,255)"
          ],
          [
           0.2,
           "rgb(102,204,255)"
          ],
          [
           0.3,
           "rgb(153,204,255)"
          ],
          [
           0.4,
           "rgb(204,204,255)"
          ],
          [
           0.5,
           "rgb(255,255,255)"
          ],
          [
           0.6,
           "rgb(255,204,255)"
          ],
          [
           0.7,
           "rgb(255,153,255)"
          ],
          [
           0.8,
           "rgb(255,102,204)"
          ],
          [
           0.9,
           "rgb(255,102,102)"
          ],
          [
           1,
           "rgb(255,0,0)"
          ]
         ]
        },
        "margin": {
         "t": 60
        },
        "template": {
         "data": {
          "bar": [
           {
            "error_x": {
             "color": "#2a3f5f"
            },
            "error_y": {
             "color": "#2a3f5f"
            },
            "marker": {
             "line": {
              "color": "#E5ECF6",
              "width": 0.5
             },
             "pattern": {
              "fillmode": "overlay",
              "size": 10,
              "solidity": 0.2
             }
            },
            "type": "bar"
           }
          ],
          "barpolar": [
           {
            "marker": {
             "line": {
              "color": "#E5ECF6",
              "width": 0.5
             },
             "pattern": {
              "fillmode": "overlay",
              "size": 10,
              "solidity": 0.2
             }
            },
            "type": "barpolar"
           }
          ],
          "carpet": [
           {
            "aaxis": {
             "endlinecolor": "#2a3f5f",
             "gridcolor": "white",
             "linecolor": "white",
             "minorgridcolor": "white",
             "startlinecolor": "#2a3f5f"
            },
            "baxis": {
             "endlinecolor": "#2a3f5f",
             "gridcolor": "white",
             "linecolor": "white",
             "minorgridcolor": "white",
             "startlinecolor": "#2a3f5f"
            },
            "type": "carpet"
           }
          ],
          "choropleth": [
           {
            "colorbar": {
             "outlinewidth": 0,
             "ticks": ""
            },
            "type": "choropleth"
           }
          ],
          "contour": [
           {
            "colorbar": {
             "outlinewidth": 0,
             "ticks": ""
            },
            "colorscale": [
             [
              0,
              "#0d0887"
             ],
             [
              0.1111111111111111,
              "#46039f"
             ],
             [
              0.2222222222222222,
              "#7201a8"
             ],
             [
              0.3333333333333333,
              "#9c179e"
             ],
             [
              0.4444444444444444,
              "#bd3786"
             ],
             [
              0.5555555555555556,
              "#d8576b"
             ],
             [
              0.6666666666666666,
              "#ed7953"
             ],
             [
              0.7777777777777778,
              "#fb9f3a"
             ],
             [
              0.8888888888888888,
              "#fdca26"
             ],
             [
              1,
              "#f0f921"
             ]
            ],
            "type": "contour"
           }
          ],
          "contourcarpet": [
           {
            "colorbar": {
             "outlinewidth": 0,
             "ticks": ""
            },
            "type": "contourcarpet"
           }
          ],
          "heatmap": [
           {
            "colorbar": {
             "outlinewidth": 0,
             "ticks": ""
            },
            "colorscale": [
             [
              0,
              "#0d0887"
             ],
             [
              0.1111111111111111,
              "#46039f"
             ],
             [
              0.2222222222222222,
              "#7201a8"
             ],
             [
              0.3333333333333333,
              "#9c179e"
             ],
             [
              0.4444444444444444,
              "#bd3786"
             ],
             [
              0.5555555555555556,
              "#d8576b"
             ],
             [
              0.6666666666666666,
              "#ed7953"
             ],
             [
              0.7777777777777778,
              "#fb9f3a"
             ],
             [
              0.8888888888888888,
              "#fdca26"
             ],
             [
              1,
              "#f0f921"
             ]
            ],
            "type": "heatmap"
           }
          ],
          "heatmapgl": [
           {
            "colorbar": {
             "outlinewidth": 0,
             "ticks": ""
            },
            "colorscale": [
             [
              0,
              "#0d0887"
             ],
             [
              0.1111111111111111,
              "#46039f"
             ],
             [
              0.2222222222222222,
              "#7201a8"
             ],
             [
              0.3333333333333333,
              "#9c179e"
             ],
             [
              0.4444444444444444,
              "#bd3786"
             ],
             [
              0.5555555555555556,
              "#d8576b"
             ],
             [
              0.6666666666666666,
              "#ed7953"
             ],
             [
              0.7777777777777778,
              "#fb9f3a"
             ],
             [
              0.8888888888888888,
              "#fdca26"
             ],
             [
              1,
              "#f0f921"
             ]
            ],
            "type": "heatmapgl"
           }
          ],
          "histogram": [
           {
            "marker": {
             "pattern": {
              "fillmode": "overlay",
              "size": 10,
              "solidity": 0.2
             }
            },
            "type": "histogram"
           }
          ],
          "histogram2d": [
           {
            "colorbar": {
             "outlinewidth": 0,
             "ticks": ""
            },
            "colorscale": [
             [
              0,
              "#0d0887"
             ],
             [
              0.1111111111111111,
              "#46039f"
             ],
             [
              0.2222222222222222,
              "#7201a8"
             ],
             [
              0.3333333333333333,
              "#9c179e"
             ],
             [
              0.4444444444444444,
              "#bd3786"
             ],
             [
              0.5555555555555556,
              "#d8576b"
             ],
             [
              0.6666666666666666,
              "#ed7953"
             ],
             [
              0.7777777777777778,
              "#fb9f3a"
             ],
             [
              0.8888888888888888,
              "#fdca26"
             ],
             [
              1,
              "#f0f921"
             ]
            ],
            "type": "histogram2d"
           }
          ],
          "histogram2dcontour": [
           {
            "colorbar": {
             "outlinewidth": 0,
             "ticks": ""
            },
            "colorscale": [
             [
              0,
              "#0d0887"
             ],
             [
              0.1111111111111111,
              "#46039f"
             ],
             [
              0.2222222222222222,
              "#7201a8"
             ],
             [
              0.3333333333333333,
              "#9c179e"
             ],
             [
              0.4444444444444444,
              "#bd3786"
             ],
             [
              0.5555555555555556,
              "#d8576b"
             ],
             [
              0.6666666666666666,
              "#ed7953"
             ],
             [
              0.7777777777777778,
              "#fb9f3a"
             ],
             [
              0.8888888888888888,
              "#fdca26"
             ],
             [
              1,
              "#f0f921"
             ]
            ],
            "type": "histogram2dcontour"
           }
          ],
          "mesh3d": [
           {
            "colorbar": {
             "outlinewidth": 0,
             "ticks": ""
            },
            "type": "mesh3d"
           }
          ],
          "parcoords": [
           {
            "line": {
             "colorbar": {
              "outlinewidth": 0,
              "ticks": ""
             }
            },
            "type": "parcoords"
           }
          ],
          "pie": [
           {
            "automargin": true,
            "type": "pie"
           }
          ],
          "scatter": [
           {
            "fillpattern": {
             "fillmode": "overlay",
             "size": 10,
             "solidity": 0.2
            },
            "type": "scatter"
           }
          ],
          "scatter3d": [
           {
            "line": {
             "colorbar": {
              "outlinewidth": 0,
              "ticks": ""
             }
            },
            "marker": {
             "colorbar": {
              "outlinewidth": 0,
              "ticks": ""
             }
            },
            "type": "scatter3d"
           }
          ],
          "scattercarpet": [
           {
            "marker": {
             "colorbar": {
              "outlinewidth": 0,
              "ticks": ""
             }
            },
            "type": "scattercarpet"
           }
          ],
          "scattergeo": [
           {
            "marker": {
             "colorbar": {
              "outlinewidth": 0,
              "ticks": ""
             }
            },
            "type": "scattergeo"
           }
          ],
          "scattergl": [
           {
            "marker": {
             "colorbar": {
              "outlinewidth": 0,
              "ticks": ""
             }
            },
            "type": "scattergl"
           }
          ],
          "scattermapbox": [
           {
            "marker": {
             "colorbar": {
              "outlinewidth": 0,
              "ticks": ""
             }
            },
            "type": "scattermapbox"
           }
          ],
          "scatterpolar": [
           {
            "marker": {
             "colorbar": {
              "outlinewidth": 0,
              "ticks": ""
             }
            },
            "type": "scatterpolar"
           }
          ],
          "scatterpolargl": [
           {
            "marker": {
             "colorbar": {
              "outlinewidth": 0,
              "ticks": ""
             }
            },
            "type": "scatterpolargl"
           }
          ],
          "scatterternary": [
           {
            "marker": {
             "colorbar": {
              "outlinewidth": 0,
              "ticks": ""
             }
            },
            "type": "scatterternary"
           }
          ],
          "surface": [
           {
            "colorbar": {
             "outlinewidth": 0,
             "ticks": ""
            },
            "colorscale": [
             [
              0,
              "#0d0887"
             ],
             [
              0.1111111111111111,
              "#46039f"
             ],
             [
              0.2222222222222222,
              "#7201a8"
             ],
             [
              0.3333333333333333,
              "#9c179e"
             ],
             [
              0.4444444444444444,
              "#bd3786"
             ],
             [
              0.5555555555555556,
              "#d8576b"
             ],
             [
              0.6666666666666666,
              "#ed7953"
             ],
             [
              0.7777777777777778,
              "#fb9f3a"
             ],
             [
              0.8888888888888888,
              "#fdca26"
             ],
             [
              1,
              "#f0f921"
             ]
            ],
            "type": "surface"
           }
          ],
          "table": [
           {
            "cells": {
             "fill": {
              "color": "#EBF0F8"
             },
             "line": {
              "color": "white"
             }
            },
            "header": {
             "fill": {
              "color": "#C8D4E3"
             },
             "line": {
              "color": "white"
             }
            },
            "type": "table"
           }
          ]
         },
         "layout": {
          "annotationdefaults": {
           "arrowcolor": "#2a3f5f",
           "arrowhead": 0,
           "arrowwidth": 1
          },
          "autotypenumbers": "strict",
          "coloraxis": {
           "colorbar": {
            "outlinewidth": 0,
            "ticks": ""
           }
          },
          "colorscale": {
           "diverging": [
            [
             0,
             "#8e0152"
            ],
            [
             0.1,
             "#c51b7d"
            ],
            [
             0.2,
             "#de77ae"
            ],
            [
             0.3,
             "#f1b6da"
            ],
            [
             0.4,
             "#fde0ef"
            ],
            [
             0.5,
             "#f7f7f7"
            ],
            [
             0.6,
             "#e6f5d0"
            ],
            [
             0.7,
             "#b8e186"
            ],
            [
             0.8,
             "#7fbc41"
            ],
            [
             0.9,
             "#4d9221"
            ],
            [
             1,
             "#276419"
            ]
           ],
           "sequential": [
            [
             0,
             "#0d0887"
            ],
            [
             0.1111111111111111,
             "#46039f"
            ],
            [
             0.2222222222222222,
             "#7201a8"
            ],
            [
             0.3333333333333333,
             "#9c179e"
            ],
            [
             0.4444444444444444,
             "#bd3786"
            ],
            [
             0.5555555555555556,
             "#d8576b"
            ],
            [
             0.6666666666666666,
             "#ed7953"
            ],
            [
             0.7777777777777778,
             "#fb9f3a"
            ],
            [
             0.8888888888888888,
             "#fdca26"
            ],
            [
             1,
             "#f0f921"
            ]
           ],
           "sequentialminus": [
            [
             0,
             "#0d0887"
            ],
            [
             0.1111111111111111,
             "#46039f"
            ],
            [
             0.2222222222222222,
             "#7201a8"
            ],
            [
             0.3333333333333333,
             "#9c179e"
            ],
            [
             0.4444444444444444,
             "#bd3786"
            ],
            [
             0.5555555555555556,
             "#d8576b"
            ],
            [
             0.6666666666666666,
             "#ed7953"
            ],
            [
             0.7777777777777778,
             "#fb9f3a"
            ],
            [
             0.8888888888888888,
             "#fdca26"
            ],
            [
             1,
             "#f0f921"
            ]
           ]
          },
          "colorway": [
           "#636efa",
           "#EF553B",
           "#00cc96",
           "#ab63fa",
           "#FFA15A",
           "#19d3f3",
           "#FF6692",
           "#B6E880",
           "#FF97FF",
           "#FECB52"
          ],
          "font": {
           "color": "#2a3f5f"
          },
          "geo": {
           "bgcolor": "white",
           "lakecolor": "white",
           "landcolor": "#E5ECF6",
           "showlakes": true,
           "showland": true,
           "subunitcolor": "white"
          },
          "hoverlabel": {
           "align": "left"
          },
          "hovermode": "closest",
          "mapbox": {
           "style": "light"
          },
          "paper_bgcolor": "white",
          "plot_bgcolor": "#E5ECF6",
          "polar": {
           "angularaxis": {
            "gridcolor": "white",
            "linecolor": "white",
            "ticks": ""
           },
           "bgcolor": "#E5ECF6",
           "radialaxis": {
            "gridcolor": "white",
            "linecolor": "white",
            "ticks": ""
           }
          },
          "scene": {
           "xaxis": {
            "backgroundcolor": "#E5ECF6",
            "gridcolor": "white",
            "gridwidth": 2,
            "linecolor": "white",
            "showbackground": true,
            "ticks": "",
            "zerolinecolor": "white"
           },
           "yaxis": {
            "backgroundcolor": "#E5ECF6",
            "gridcolor": "white",
            "gridwidth": 2,
            "linecolor": "white",
            "showbackground": true,
            "ticks": "",
            "zerolinecolor": "white"
           },
           "zaxis": {
            "backgroundcolor": "#E5ECF6",
            "gridcolor": "white",
            "gridwidth": 2,
            "linecolor": "white",
            "showbackground": true,
            "ticks": "",
            "zerolinecolor": "white"
           }
          },
          "shapedefaults": {
           "line": {
            "color": "#2a3f5f"
           }
          },
          "ternary": {
           "aaxis": {
            "gridcolor": "white",
            "linecolor": "white",
            "ticks": ""
           },
           "baxis": {
            "gridcolor": "white",
            "linecolor": "white",
            "ticks": ""
           },
           "bgcolor": "#E5ECF6",
           "caxis": {
            "gridcolor": "white",
            "linecolor": "white",
            "ticks": ""
           }
          },
          "title": {
           "x": 0.05
          },
          "xaxis": {
           "automargin": true,
           "gridcolor": "white",
           "linecolor": "white",
           "ticks": "",
           "title": {
            "standoff": 15
           },
           "zerolinecolor": "white",
           "zerolinewidth": 2
          },
          "yaxis": {
           "automargin": true,
           "gridcolor": "white",
           "linecolor": "white",
           "ticks": "",
           "title": {
            "standoff": 15
           },
           "zerolinecolor": "white",
           "zerolinewidth": 2
          }
         }
        },
        "xaxis": {
         "anchor": "y",
         "constrain": "domain",
         "domain": [
          0,
          1
         ],
         "scaleanchor": "y"
        },
        "yaxis": {
         "anchor": "x",
         "autorange": "reversed",
         "constrain": "domain",
         "domain": [
          0,
          1
         ]
        }
       }
      }
     },
     "metadata": {},
     "output_type": "display_data"
    }
   ],
   "source": [
    "main()"
   ]
  }
 ],
 "metadata": {
  "kernelspec": {
   "display_name": "Python 3",
   "language": "python",
   "name": "python3"
  },
  "language_info": {
   "codemirror_mode": {
    "name": "ipython",
    "version": 3
   },
   "file_extension": ".py",
   "mimetype": "text/x-python",
   "name": "python",
   "nbconvert_exporter": "python",
   "pygments_lexer": "ipython3",
   "version": "3.12.1"
  },
  "orig_nbformat": 4
 },
 "nbformat": 4,
 "nbformat_minor": 2
}
