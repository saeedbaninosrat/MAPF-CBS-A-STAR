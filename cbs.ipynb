{
 "cells": [
  {
   "cell_type": "markdown",
   "metadata": {},
   "source": [
    "#### Dictionaries"
   ]
  },
  {
   "cell_type": "code",
   "execution_count": 157,
   "metadata": {},
   "outputs": [],
   "source": [
    "import plotly.express as px\n",
    "import random"
   ]
  },
  {
   "cell_type": "markdown",
   "metadata": {},
   "source": [
    "#### Generate Maze"
   ]
  },
  {
   "cell_type": "code",
   "execution_count": 158,
   "metadata": {},
   "outputs": [],
   "source": [
    "def create_maze(maze_size, zeros_number):\n",
    "    # Create a random maze with maze size and number of blocks got from main function \n",
    "    new_maze = [[5] * maze_size for _ in range(maze_size)]\n",
    "    zeros_generated = 0\n",
    "    while zeros_generated < zeros_number:\n",
    "        x = random.randint(0, maze_size - 1)\n",
    "        y = random.randint(0, maze_size - 1)\n",
    "        if new_maze[x][y] == 5:\n",
    "            new_maze[x][y] = 0\n",
    "            zeros_generated += 1\n",
    "    maze = []\n",
    "    for row in new_maze:\n",
    "        maze.append(row)\n",
    "        \n",
    "        \n",
    "    # Todo: Uncomment the following lines to generate the maze manually\n",
    "    # Note that the fives are allowed paths and zeros are blocks    \n",
    "    maze = [[5, 5, 5, 5, 5, 5, 5, 5, 5, 5, 5, 5, 5, 5, 5],\n",
    "            [5, 5, 5, 5, 5, 5, 5, 5, 5, 5, 5, 5, 5, 5, 5],\n",
    "            [5, 5, 5, 0, 0, 0, 0, 0, 0, 0, 0, 0, 5, 5, 5],\n",
    "            [5, 5, 5, 0, 5, 5, 5, 5, 5, 5, 5, 5, 5, 5, 5],\n",
    "            [5, 5, 5, 0, 5, 5, 5, 5, 5, 5, 5, 5, 5, 5, 5],\n",
    "            [5, 5, 5, 0, 5, 5, 5, 5, 5, 5, 5, 5, 5, 5, 5],\n",
    "            [5, 5, 5, 0, 0, 0, 0, 0, 0, 0, 0, 0, 5, 5, 5],\n",
    "            [5, 5, 5, 0, 5, 5, 5, 5, 5, 5, 5, 0, 5, 5, 5],\n",
    "            [5, 5, 5, 0, 5, 0, 5, 5, 5, 5, 5, 0, 5, 5, 5],\n",
    "            [5, 5, 5, 0, 5, 0, 5, 5, 5, 5, 5, 0, 5, 5, 5],\n",
    "            [5, 5, 5, 5, 5, 0, 5, 5, 5, 5, 5, 0, 5, 5, 5],\n",
    "            [5, 5, 5, 5, 5, 5, 5, 5, 5, 5, 5, 5, 5, 5, 5],\n",
    "            [5, 5, 5, 5, 5, 5, 5, 5, 5, 5, 5, 5, 5, 5, 5],\n",
    "            [5, 5, 5, 5, 5, 5, 5, 5, 5, 5, 5, 5, 5, 5, 5],\n",
    "            [5, 5, 5, 5, 5, 5, 5, 5, 5, 5, 5, 5, 5, 5, 5]]\n",
    "    \n",
    "    return maze"
   ]
  },
  {
   "cell_type": "markdown",
   "metadata": {},
   "source": [
    "#### Define Node"
   ]
  },
  {
   "cell_type": "code",
   "execution_count": 159,
   "metadata": {},
   "outputs": [],
   "source": [
    "class Node():\n",
    "    \n",
    "    def __init__(self, parent=None, position=None):\n",
    "        self.parent = parent\n",
    "        self.position = position\n",
    "\n",
    "        self.g = 0\n",
    "        self.h = 0\n",
    "        self.f = 0\n",
    "\n",
    "    def __eq__(self, other):\n",
    "        return self.position == other.position\n",
    "    \n",
    "    def __repr__(self) -> str:\n",
    "        return f\"{self.position}\"\n"
   ]
  },
  {
   "cell_type": "markdown",
   "metadata": {},
   "source": [
    "#### Define Agent"
   ]
  },
  {
   "cell_type": "code",
   "execution_count": 160,
   "metadata": {},
   "outputs": [],
   "source": [
    "class Agent:\n",
    "    def __init__(self, start_position, end_position):\n",
    "        self.start_node = Node(None, start_position)\n",
    "        self.end_node = Node(None, end_position)\n",
    "        self.current_node = Node(None, start_position)\n",
    "        self.open_list = []\n",
    "        self.close_list = []\n",
    "        self.path = []"
   ]
  },
  {
   "cell_type": "markdown",
   "metadata": {},
   "source": [
    "#### Generate Random Start and End Positions for Agents"
   ]
  },
  {
   "cell_type": "code",
   "execution_count": 161,
   "metadata": {},
   "outputs": [],
   "source": [
    "# Random points for start and end nodes of agents are randomly generated from this function\n",
    "def generate_random_points(maze_size, maze, list_of_random_points):\n",
    "    while True:\n",
    "        start_x = random.randint(0, maze_size - 1)\n",
    "        start_y = random.randint(0, maze_size - 1)\n",
    "        end_x = random.randint(0, maze_size - 1)\n",
    "        end_y = random.randint(0, maze_size - 1)\n",
    "        if (start_x, start_y) != (end_x, end_y) and maze[start_x][start_y] != 0 and maze[end_x][end_y] != 0 and (start_x, start_y) not in list_of_random_points and (end_x, end_y) not in list_of_random_points  :\n",
    "            list_of_random_points.append((start_x, start_y))\n",
    "            list_of_random_points.append((end_x, end_y))\n",
    "            return (start_x, start_y), (end_x, end_y)"
   ]
  },
  {
   "cell_type": "markdown",
   "metadata": {},
   "source": [
    "#### Generator Agents"
   ]
  },
  {
   "cell_type": "code",
   "execution_count": 162,
   "metadata": {},
   "outputs": [],
   "source": [
    "def generate_agents(number_of_agents, maze_size, maze):\n",
    "    # Agents get randomly generated in this function\n",
    "    agents = []\n",
    "    list_of_random_points = []\n",
    "    for _ in range(number_of_agents):\n",
    "        start, end = generate_random_points(maze_size, maze, list_of_random_points)\n",
    "        agent = Agent(start, end)\n",
    "        agents.append(agent)\n",
    "        \n",
    "    # Todo: Uncomment these lines and change numbers to generate agents manually\n",
    "    # Todo: You should set agents respect the number of agents we define in main function\n",
    "    # agents[0] = Agent((2, 0) ,(12, 5))   \n",
    "    # agents[1] = Agent((6, 0) ,(6, 14))\n",
    "    # agents[2] = Agent((0, 0) ,(12, 6))\n",
    "    # agents[3] = Agent((4, 4) ,(0, 12))\n",
    "    # agents[4] = Agent((0, 4) ,(4, 0))\n",
    "    # agents[5] = Agent((1, 4) ,(4, 1))\n",
    "    \n",
    "    for agent in agents:\n",
    "        print(\"start and end positions of agent \",agents.index(agent) + 1,\"is: \",agent.start_node.position, agent.end_node.position)\n",
    "    \n",
    "    # We check if start and end positions of agents are different and not on blocks\n",
    "    counter = 0\n",
    "    for agent in agents:\n",
    "        counter += 1\n",
    "        if(agent.start_node.position == agent.end_node.position):\n",
    "            raise Exception(\"Start and End positions of Agent \" + str(counter) +\" are same\")\n",
    "        if(maze[agent.start_node.position[0]][agent.start_node.position[1]] == 0): \n",
    "            raise Exception(\"Start position of Agent \"+str(counter)+ \" is on Block in the position: \" )\n",
    "        if(maze[agent.end_node.position[0]][agent.end_node.position[1]] == 0): \n",
    "            raise Exception(\"End position of Agent \"+str(counter)+\" is on Block in the position: \")\n",
    "    return agents\n"
   ]
  },
  {
   "cell_type": "markdown",
   "metadata": {},
   "source": [
    "#### Check if all agents arrived"
   ]
  },
  {
   "cell_type": "code",
   "execution_count": 163,
   "metadata": {},
   "outputs": [],
   "source": [
    "# Check if all agents arrived to their end nodes\n",
    "def reach_final(agents):\n",
    "    for agent in agents:\n",
    "        if agent.current_node != agent.end_node:\n",
    "            return(False)\n",
    "    return(True)"
   ]
  },
  {
   "cell_type": "markdown",
   "metadata": {},
   "source": [
    "#### Create constraint tree"
   ]
  },
  {
   "cell_type": "code",
   "execution_count": 164,
   "metadata": {},
   "outputs": [],
   "source": [
    "def get_constraint_tree(agents):\n",
    "    final_paths = []\n",
    "    for agent in agents:\n",
    "        final_path = []  \n",
    "        goal = agent.path[-1]\n",
    "        while goal is not None:\n",
    "            final_path.append(goal)\n",
    "            goal = goal.parent\n",
    "        final_path = final_path[::-1]\n",
    "        final_paths.append(final_path)\n",
    "    constraint_tree = []\n",
    "    for i, path in enumerate(final_paths):\n",
    "        for j, other_path in enumerate(final_paths):\n",
    "            if i < j:\n",
    "                for k, item in enumerate(path):\n",
    "                    for p, other_item in enumerate(other_path):\n",
    "                        if k == p and item == other_item:\n",
    "                            if item.parent.h < other_item.parent.h:\n",
    "                                constraint_tree.append((i, k, item.parent))\n",
    "                            else:\n",
    "                                constraint_tree.append((j, p, other_item.parent))\n",
    "    return(constraint_tree, final_paths)"
   ]
  },
  {
   "cell_type": "markdown",
   "metadata": {},
   "source": [
    "#### Generate Children"
   ]
  },
  {
   "cell_type": "code",
   "execution_count": 165,
   "metadata": {},
   "outputs": [],
   "source": [
    "def generate_children(agents, maze):\n",
    "    maze_x = len(maze)-1\n",
    "    maze_y = len(maze[0])-1\n",
    "    for agent in agents:\n",
    "        if agent.current_node != agent.end_node:\n",
    "        # Generate children\n",
    "            for new_position in [(0, -1), (0, 1), (-1, 0), (1, 0),(-1, -1), (1, 1), (-1, 1), (1, -1)]: # Adjacent squares\n",
    "\n",
    "                # Get node position\n",
    "                adjacent_position = (agent.current_node.position[0] + new_position[0], agent.current_node.position[1] + new_position[1])\n",
    "\n",
    "                # Make sure within range\n",
    "                if adjacent_position[0] > maze_x or adjacent_position[0] < 0 or adjacent_position[1] > maze_y or adjacent_position[1] < 0:\n",
    "                    continue\n",
    "\n",
    "                # Make sure walkable terrain\n",
    "                if maze[adjacent_position[0]][adjacent_position[1]] == 0:\n",
    "                    continue\n",
    "\n",
    "                # Create new node\n",
    "                new_node = Node(agent.current_node, adjacent_position)\n",
    "\n",
    "        \n",
    "                # Child is on the closed list\n",
    "                if new_node in agent.close_list:\n",
    "                    continue\n",
    "\n",
    "                # Create the f, g, and h values\n",
    "                new_node.g = agent.current_node.g + 1\n",
    "                new_node.h = ((new_node.position[0] - agent.end_node.position[0]) ** 2) + ((new_node.position[1] - agent.end_node.position[1]) ** 2)\n",
    "                new_node.f = new_node.g + new_node.h\n",
    "\n",
    "                # new_node is already in the open list\n",
    "                if new_node not in agent.close_list:\n",
    "                    if new_node in agent.open_list:\n",
    "                        conflicted_agent = agent.open_list.index(new_node)\n",
    "                        duplicated = agent.open_list[conflicted_agent]\n",
    "                        if new_node.g < duplicated.g:\n",
    "                            agent.open_list.append(new_node)\n",
    "                    else:\n",
    "                        agent.open_list.append(new_node)\n",
    "        \n",
    "        if len(agent.open_list) > 0 and agent.current_node != agent.end_node:\n",
    "            # Get the agents current node\n",
    "            agent.current_node = agent.open_list[0]\n",
    "            for item in agent.open_list:\n",
    "                if item.f < agent.current_node.f:\n",
    "                    agent.current_node = item\n",
    "\n",
    "            # Pop current node off open list, add to closed list\n",
    "            agent.open_list.remove(agent.current_node)\n",
    "            agent.path.append(agent.current_node)\n",
    "            agent.close_list.append(agent.current_node)"
   ]
  },
  {
   "cell_type": "markdown",
   "metadata": {},
   "source": [
    "#### CBS Algorithm for Multi-Agent Path Finding"
   ]
  },
  {
   "cell_type": "code",
   "execution_count": 166,
   "metadata": {},
   "outputs": [],
   "source": [
    "def cbs_algorithm(maze, agents):\n",
    "    \n",
    "    new_maze = maze\n",
    "\n",
    "    # Add the agents start node\n",
    "    counter = 0\n",
    "    for agent in agents:\n",
    "        counter += 1\n",
    "        agent.path.append(agent.current_node)\n",
    "        agent.close_list.append(agent.start_node)\n",
    "\n",
    "    # Loop until you find the end\n",
    "    while True:\n",
    "        # Found the goal\n",
    "        if reach_final(agents):\n",
    "            \n",
    "            constraint_tree, final_paths = get_constraint_tree(agents)\n",
    "\n",
    "            for l, i, val in constraint_tree:\n",
    "                final_paths[l].insert(i, val)\n",
    "            final_path_primes = final_paths\n",
    "\n",
    "            counter = 2\n",
    "            for final_path_prime in final_path_primes:\n",
    "                print(\"agent \", counter - 1,\" has the path\",final_path_prime) # Print reversed path\n",
    "                for path_position in final_path_prime:\n",
    "                    new_maze[path_position.position[0]][path_position.position[1]] = counter * 2\n",
    "                counter +=1\n",
    "            \n",
    "            return(new_maze)\n",
    "        \n",
    "        generate_children(agents, maze)\n"
   ]
  },
  {
   "cell_type": "markdown",
   "metadata": {},
   "source": [
    "#### Main Function"
   ]
  },
  {
   "cell_type": "code",
   "execution_count": 167,
   "metadata": {},
   "outputs": [],
   "source": [
    "def main():\n",
    "    # Todo: Set maze size by changing this number\n",
    "    maze_size = 15\n",
    "    \n",
    "    # Todo: Set Number of Blocks by changing this number\n",
    "    number_of_blocks = 60\n",
    "\n",
    "    # Todo: Set Number of Agents by changing this number\n",
    "    number_of_agents = 6\n",
    "    \n",
    "    maze = create_maze(maze_size, number_of_blocks)\n",
    "    agents = generate_agents(number_of_agents, maze_size, maze)\n",
    "    new_maze = cbs_algorithm(maze, agents)\n",
    "\n",
    "    fig = px.imshow(new_maze, color_continuous_midpoint=0.0 , range_color= [0,10], color_continuous_scale = 'Picnic' )\n",
    "    fig.show()\n"
   ]
  },
  {
   "cell_type": "code",
   "execution_count": 168,
   "metadata": {},
   "outputs": [
    {
     "name": "stdout",
     "output_type": "stream",
     "text": [
      "start and end positions of agent  1 is:  (14, 13) (6, 12)\n",
      "start and end positions of agent  2 is:  (0, 12) (1, 13)\n",
      "start and end positions of agent  3 is:  (6, 13) (7, 2)\n",
      "start and end positions of agent  4 is:  (13, 12) (5, 4)\n",
      "start and end positions of agent  5 is:  (2, 12) (1, 6)\n",
      "start and end positions of agent  6 is:  (10, 4) (10, 6)\n",
      "agent  1  has the path [(14, 13), (13, 12), (12, 12), (11, 12), (11, 12), (10, 12), (9, 12), (8, 12), (7, 12), (6, 12)]\n",
      "agent  2  has the path [(0, 12), (1, 13)]\n",
      "agent  3  has the path [(6, 13), (7, 12), (8, 12), (9, 12), (10, 12), (11, 11), (10, 10), (9, 9), (8, 8), (7, 7), (7, 6), (7, 5), (8, 4), (9, 4), (10, 3), (9, 2), (8, 2), (7, 2)]\n",
      "agent  4  has the path [(13, 12), (12, 11), (11, 11), (10, 12), (9, 12), (8, 12), (7, 12), (6, 12), (5, 11), (5, 10), (5, 9), (5, 8), (5, 7), (5, 6), (5, 5), (5, 4)]\n",
      "agent  5  has the path [(2, 12), (1, 11), (1, 10), (1, 9), (1, 8), (1, 7), (1, 6)]\n",
      "agent  6  has the path [(10, 4), (11, 5), (10, 6)]\n"
     ]
    },
    {
     "data": {
      "application/vnd.plotly.v1+json": {
       "config": {
        "plotlyServerURL": "https://plot.ly"
       },
       "data": [
        {
         "coloraxis": "coloraxis",
         "hovertemplate": "x: %{x}<br>y: %{y}<br>color: %{z}<extra></extra>",
         "name": "0",
         "type": "heatmap",
         "xaxis": "x",
         "yaxis": "y",
         "z": [
          [
           5,
           5,
           5,
           5,
           5,
           5,
           5,
           5,
           5,
           5,
           5,
           5,
           6,
           5,
           5
          ],
          [
           5,
           5,
           5,
           5,
           5,
           5,
           12,
           12,
           12,
           12,
           12,
           12,
           5,
           6,
           5
          ],
          [
           5,
           5,
           5,
           0,
           0,
           0,
           0,
           0,
           0,
           0,
           0,
           0,
           12,
           5,
           5
          ],
          [
           5,
           5,
           5,
           0,
           5,
           5,
           5,
           5,
           5,
           5,
           5,
           5,
           5,
           5,
           5
          ],
          [
           5,
           5,
           5,
           0,
           5,
           5,
           5,
           5,
           5,
           5,
           5,
           5,
           5,
           5,
           5
          ],
          [
           5,
           5,
           5,
           0,
           10,
           10,
           10,
           10,
           10,
           10,
           10,
           10,
           5,
           5,
           5
          ],
          [
           5,
           5,
           5,
           0,
           0,
           0,
           0,
           0,
           0,
           0,
           0,
           0,
           10,
           8,
           5
          ],
          [
           5,
           5,
           8,
           0,
           5,
           8,
           8,
           8,
           5,
           5,
           5,
           0,
           10,
           5,
           5
          ],
          [
           5,
           5,
           8,
           0,
           8,
           0,
           5,
           5,
           8,
           5,
           5,
           0,
           10,
           5,
           5
          ],
          [
           5,
           5,
           8,
           0,
           8,
           0,
           5,
           5,
           5,
           8,
           5,
           0,
           10,
           5,
           5
          ],
          [
           5,
           5,
           5,
           8,
           14,
           0,
           14,
           5,
           5,
           5,
           8,
           0,
           10,
           5,
           5
          ],
          [
           5,
           5,
           5,
           5,
           5,
           14,
           5,
           5,
           5,
           5,
           5,
           10,
           4,
           5,
           5
          ],
          [
           5,
           5,
           5,
           5,
           5,
           5,
           5,
           5,
           5,
           5,
           5,
           10,
           4,
           5,
           5
          ],
          [
           5,
           5,
           5,
           5,
           5,
           5,
           5,
           5,
           5,
           5,
           5,
           5,
           10,
           5,
           5
          ],
          [
           5,
           5,
           5,
           5,
           5,
           5,
           5,
           5,
           5,
           5,
           5,
           5,
           5,
           4,
           5
          ]
         ]
        }
       ],
       "layout": {
        "coloraxis": {
         "cmax": 10,
         "cmid": 0,
         "cmin": 0,
         "colorscale": [
          [
           0,
           "rgb(0,0,255)"
          ],
          [
           0.1,
           "rgb(51,153,255)"
          ],
          [
           0.2,
           "rgb(102,204,255)"
          ],
          [
           0.3,
           "rgb(153,204,255)"
          ],
          [
           0.4,
           "rgb(204,204,255)"
          ],
          [
           0.5,
           "rgb(255,255,255)"
          ],
          [
           0.6,
           "rgb(255,204,255)"
          ],
          [
           0.7,
           "rgb(255,153,255)"
          ],
          [
           0.8,
           "rgb(255,102,204)"
          ],
          [
           0.9,
           "rgb(255,102,102)"
          ],
          [
           1,
           "rgb(255,0,0)"
          ]
         ]
        },
        "margin": {
         "t": 60
        },
        "template": {
         "data": {
          "bar": [
           {
            "error_x": {
             "color": "#2a3f5f"
            },
            "error_y": {
             "color": "#2a3f5f"
            },
            "marker": {
             "line": {
              "color": "#E5ECF6",
              "width": 0.5
             },
             "pattern": {
              "fillmode": "overlay",
              "size": 10,
              "solidity": 0.2
             }
            },
            "type": "bar"
           }
          ],
          "barpolar": [
           {
            "marker": {
             "line": {
              "color": "#E5ECF6",
              "width": 0.5
             },
             "pattern": {
              "fillmode": "overlay",
              "size": 10,
              "solidity": 0.2
             }
            },
            "type": "barpolar"
           }
          ],
          "carpet": [
           {
            "aaxis": {
             "endlinecolor": "#2a3f5f",
             "gridcolor": "white",
             "linecolor": "white",
             "minorgridcolor": "white",
             "startlinecolor": "#2a3f5f"
            },
            "baxis": {
             "endlinecolor": "#2a3f5f",
             "gridcolor": "white",
             "linecolor": "white",
             "minorgridcolor": "white",
             "startlinecolor": "#2a3f5f"
            },
            "type": "carpet"
           }
          ],
          "choropleth": [
           {
            "colorbar": {
             "outlinewidth": 0,
             "ticks": ""
            },
            "type": "choropleth"
           }
          ],
          "contour": [
           {
            "colorbar": {
             "outlinewidth": 0,
             "ticks": ""
            },
            "colorscale": [
             [
              0,
              "#0d0887"
             ],
             [
              0.1111111111111111,
              "#46039f"
             ],
             [
              0.2222222222222222,
              "#7201a8"
             ],
             [
              0.3333333333333333,
              "#9c179e"
             ],
             [
              0.4444444444444444,
              "#bd3786"
             ],
             [
              0.5555555555555556,
              "#d8576b"
             ],
             [
              0.6666666666666666,
              "#ed7953"
             ],
             [
              0.7777777777777778,
              "#fb9f3a"
             ],
             [
              0.8888888888888888,
              "#fdca26"
             ],
             [
              1,
              "#f0f921"
             ]
            ],
            "type": "contour"
           }
          ],
          "contourcarpet": [
           {
            "colorbar": {
             "outlinewidth": 0,
             "ticks": ""
            },
            "type": "contourcarpet"
           }
          ],
          "heatmap": [
           {
            "colorbar": {
             "outlinewidth": 0,
             "ticks": ""
            },
            "colorscale": [
             [
              0,
              "#0d0887"
             ],
             [
              0.1111111111111111,
              "#46039f"
             ],
             [
              0.2222222222222222,
              "#7201a8"
             ],
             [
              0.3333333333333333,
              "#9c179e"
             ],
             [
              0.4444444444444444,
              "#bd3786"
             ],
             [
              0.5555555555555556,
              "#d8576b"
             ],
             [
              0.6666666666666666,
              "#ed7953"
             ],
             [
              0.7777777777777778,
              "#fb9f3a"
             ],
             [
              0.8888888888888888,
              "#fdca26"
             ],
             [
              1,
              "#f0f921"
             ]
            ],
            "type": "heatmap"
           }
          ],
          "heatmapgl": [
           {
            "colorbar": {
             "outlinewidth": 0,
             "ticks": ""
            },
            "colorscale": [
             [
              0,
              "#0d0887"
             ],
             [
              0.1111111111111111,
              "#46039f"
             ],
             [
              0.2222222222222222,
              "#7201a8"
             ],
             [
              0.3333333333333333,
              "#9c179e"
             ],
             [
              0.4444444444444444,
              "#bd3786"
             ],
             [
              0.5555555555555556,
              "#d8576b"
             ],
             [
              0.6666666666666666,
              "#ed7953"
             ],
             [
              0.7777777777777778,
              "#fb9f3a"
             ],
             [
              0.8888888888888888,
              "#fdca26"
             ],
             [
              1,
              "#f0f921"
             ]
            ],
            "type": "heatmapgl"
           }
          ],
          "histogram": [
           {
            "marker": {
             "pattern": {
              "fillmode": "overlay",
              "size": 10,
              "solidity": 0.2
             }
            },
            "type": "histogram"
           }
          ],
          "histogram2d": [
           {
            "colorbar": {
             "outlinewidth": 0,
             "ticks": ""
            },
            "colorscale": [
             [
              0,
              "#0d0887"
             ],
             [
              0.1111111111111111,
              "#46039f"
             ],
             [
              0.2222222222222222,
              "#7201a8"
             ],
             [
              0.3333333333333333,
              "#9c179e"
             ],
             [
              0.4444444444444444,
              "#bd3786"
             ],
             [
              0.5555555555555556,
              "#d8576b"
             ],
             [
              0.6666666666666666,
              "#ed7953"
             ],
             [
              0.7777777777777778,
              "#fb9f3a"
             ],
             [
              0.8888888888888888,
              "#fdca26"
             ],
             [
              1,
              "#f0f921"
             ]
            ],
            "type": "histogram2d"
           }
          ],
          "histogram2dcontour": [
           {
            "colorbar": {
             "outlinewidth": 0,
             "ticks": ""
            },
            "colorscale": [
             [
              0,
              "#0d0887"
             ],
             [
              0.1111111111111111,
              "#46039f"
             ],
             [
              0.2222222222222222,
              "#7201a8"
             ],
             [
              0.3333333333333333,
              "#9c179e"
             ],
             [
              0.4444444444444444,
              "#bd3786"
             ],
             [
              0.5555555555555556,
              "#d8576b"
             ],
             [
              0.6666666666666666,
              "#ed7953"
             ],
             [
              0.7777777777777778,
              "#fb9f3a"
             ],
             [
              0.8888888888888888,
              "#fdca26"
             ],
             [
              1,
              "#f0f921"
             ]
            ],
            "type": "histogram2dcontour"
           }
          ],
          "mesh3d": [
           {
            "colorbar": {
             "outlinewidth": 0,
             "ticks": ""
            },
            "type": "mesh3d"
           }
          ],
          "parcoords": [
           {
            "line": {
             "colorbar": {
              "outlinewidth": 0,
              "ticks": ""
             }
            },
            "type": "parcoords"
           }
          ],
          "pie": [
           {
            "automargin": true,
            "type": "pie"
           }
          ],
          "scatter": [
           {
            "fillpattern": {
             "fillmode": "overlay",
             "size": 10,
             "solidity": 0.2
            },
            "type": "scatter"
           }
          ],
          "scatter3d": [
           {
            "line": {
             "colorbar": {
              "outlinewidth": 0,
              "ticks": ""
             }
            },
            "marker": {
             "colorbar": {
              "outlinewidth": 0,
              "ticks": ""
             }
            },
            "type": "scatter3d"
           }
          ],
          "scattercarpet": [
           {
            "marker": {
             "colorbar": {
              "outlinewidth": 0,
              "ticks": ""
             }
            },
            "type": "scattercarpet"
           }
          ],
          "scattergeo": [
           {
            "marker": {
             "colorbar": {
              "outlinewidth": 0,
              "ticks": ""
             }
            },
            "type": "scattergeo"
           }
          ],
          "scattergl": [
           {
            "marker": {
             "colorbar": {
              "outlinewidth": 0,
              "ticks": ""
             }
            },
            "type": "scattergl"
           }
          ],
          "scattermapbox": [
           {
            "marker": {
             "colorbar": {
              "outlinewidth": 0,
              "ticks": ""
             }
            },
            "type": "scattermapbox"
           }
          ],
          "scatterpolar": [
           {
            "marker": {
             "colorbar": {
              "outlinewidth": 0,
              "ticks": ""
             }
            },
            "type": "scatterpolar"
           }
          ],
          "scatterpolargl": [
           {
            "marker": {
             "colorbar": {
              "outlinewidth": 0,
              "ticks": ""
             }
            },
            "type": "scatterpolargl"
           }
          ],
          "scatterternary": [
           {
            "marker": {
             "colorbar": {
              "outlinewidth": 0,
              "ticks": ""
             }
            },
            "type": "scatterternary"
           }
          ],
          "surface": [
           {
            "colorbar": {
             "outlinewidth": 0,
             "ticks": ""
            },
            "colorscale": [
             [
              0,
              "#0d0887"
             ],
             [
              0.1111111111111111,
              "#46039f"
             ],
             [
              0.2222222222222222,
              "#7201a8"
             ],
             [
              0.3333333333333333,
              "#9c179e"
             ],
             [
              0.4444444444444444,
              "#bd3786"
             ],
             [
              0.5555555555555556,
              "#d8576b"
             ],
             [
              0.6666666666666666,
              "#ed7953"
             ],
             [
              0.7777777777777778,
              "#fb9f3a"
             ],
             [
              0.8888888888888888,
              "#fdca26"
             ],
             [
              1,
              "#f0f921"
             ]
            ],
            "type": "surface"
           }
          ],
          "table": [
           {
            "cells": {
             "fill": {
              "color": "#EBF0F8"
             },
             "line": {
              "color": "white"
             }
            },
            "header": {
             "fill": {
              "color": "#C8D4E3"
             },
             "line": {
              "color": "white"
             }
            },
            "type": "table"
           }
          ]
         },
         "layout": {
          "annotationdefaults": {
           "arrowcolor": "#2a3f5f",
           "arrowhead": 0,
           "arrowwidth": 1
          },
          "autotypenumbers": "strict",
          "coloraxis": {
           "colorbar": {
            "outlinewidth": 0,
            "ticks": ""
           }
          },
          "colorscale": {
           "diverging": [
            [
             0,
             "#8e0152"
            ],
            [
             0.1,
             "#c51b7d"
            ],
            [
             0.2,
             "#de77ae"
            ],
            [
             0.3,
             "#f1b6da"
            ],
            [
             0.4,
             "#fde0ef"
            ],
            [
             0.5,
             "#f7f7f7"
            ],
            [
             0.6,
             "#e6f5d0"
            ],
            [
             0.7,
             "#b8e186"
            ],
            [
             0.8,
             "#7fbc41"
            ],
            [
             0.9,
             "#4d9221"
            ],
            [
             1,
             "#276419"
            ]
           ],
           "sequential": [
            [
             0,
             "#0d0887"
            ],
            [
             0.1111111111111111,
             "#46039f"
            ],
            [
             0.2222222222222222,
             "#7201a8"
            ],
            [
             0.3333333333333333,
             "#9c179e"
            ],
            [
             0.4444444444444444,
             "#bd3786"
            ],
            [
             0.5555555555555556,
             "#d8576b"
            ],
            [
             0.6666666666666666,
             "#ed7953"
            ],
            [
             0.7777777777777778,
             "#fb9f3a"
            ],
            [
             0.8888888888888888,
             "#fdca26"
            ],
            [
             1,
             "#f0f921"
            ]
           ],
           "sequentialminus": [
            [
             0,
             "#0d0887"
            ],
            [
             0.1111111111111111,
             "#46039f"
            ],
            [
             0.2222222222222222,
             "#7201a8"
            ],
            [
             0.3333333333333333,
             "#9c179e"
            ],
            [
             0.4444444444444444,
             "#bd3786"
            ],
            [
             0.5555555555555556,
             "#d8576b"
            ],
            [
             0.6666666666666666,
             "#ed7953"
            ],
            [
             0.7777777777777778,
             "#fb9f3a"
            ],
            [
             0.8888888888888888,
             "#fdca26"
            ],
            [
             1,
             "#f0f921"
            ]
           ]
          },
          "colorway": [
           "#636efa",
           "#EF553B",
           "#00cc96",
           "#ab63fa",
           "#FFA15A",
           "#19d3f3",
           "#FF6692",
           "#B6E880",
           "#FF97FF",
           "#FECB52"
          ],
          "font": {
           "color": "#2a3f5f"
          },
          "geo": {
           "bgcolor": "white",
           "lakecolor": "white",
           "landcolor": "#E5ECF6",
           "showlakes": true,
           "showland": true,
           "subunitcolor": "white"
          },
          "hoverlabel": {
           "align": "left"
          },
          "hovermode": "closest",
          "mapbox": {
           "style": "light"
          },
          "paper_bgcolor": "white",
          "plot_bgcolor": "#E5ECF6",
          "polar": {
           "angularaxis": {
            "gridcolor": "white",
            "linecolor": "white",
            "ticks": ""
           },
           "bgcolor": "#E5ECF6",
           "radialaxis": {
            "gridcolor": "white",
            "linecolor": "white",
            "ticks": ""
           }
          },
          "scene": {
           "xaxis": {
            "backgroundcolor": "#E5ECF6",
            "gridcolor": "white",
            "gridwidth": 2,
            "linecolor": "white",
            "showbackground": true,
            "ticks": "",
            "zerolinecolor": "white"
           },
           "yaxis": {
            "backgroundcolor": "#E5ECF6",
            "gridcolor": "white",
            "gridwidth": 2,
            "linecolor": "white",
            "showbackground": true,
            "ticks": "",
            "zerolinecolor": "white"
           },
           "zaxis": {
            "backgroundcolor": "#E5ECF6",
            "gridcolor": "white",
            "gridwidth": 2,
            "linecolor": "white",
            "showbackground": true,
            "ticks": "",
            "zerolinecolor": "white"
           }
          },
          "shapedefaults": {
           "line": {
            "color": "#2a3f5f"
           }
          },
          "ternary": {
           "aaxis": {
            "gridcolor": "white",
            "linecolor": "white",
            "ticks": ""
           },
           "baxis": {
            "gridcolor": "white",
            "linecolor": "white",
            "ticks": ""
           },
           "bgcolor": "#E5ECF6",
           "caxis": {
            "gridcolor": "white",
            "linecolor": "white",
            "ticks": ""
           }
          },
          "title": {
           "x": 0.05
          },
          "xaxis": {
           "automargin": true,
           "gridcolor": "white",
           "linecolor": "white",
           "ticks": "",
           "title": {
            "standoff": 15
           },
           "zerolinecolor": "white",
           "zerolinewidth": 2
          },
          "yaxis": {
           "automargin": true,
           "gridcolor": "white",
           "linecolor": "white",
           "ticks": "",
           "title": {
            "standoff": 15
           },
           "zerolinecolor": "white",
           "zerolinewidth": 2
          }
         }
        },
        "xaxis": {
         "anchor": "y",
         "constrain": "domain",
         "domain": [
          0,
          1
         ],
         "scaleanchor": "y"
        },
        "yaxis": {
         "anchor": "x",
         "autorange": "reversed",
         "constrain": "domain",
         "domain": [
          0,
          1
         ]
        }
       }
      }
     },
     "metadata": {},
     "output_type": "display_data"
    }
   ],
   "source": [
    "main()"
   ]
  }
 ],
 "metadata": {
  "kernelspec": {
   "display_name": "Python 3",
   "language": "python",
   "name": "python3"
  },
  "language_info": {
   "codemirror_mode": {
    "name": "ipython",
    "version": 3
   },
   "file_extension": ".py",
   "mimetype": "text/x-python",
   "name": "python",
   "nbconvert_exporter": "python",
   "pygments_lexer": "ipython3",
   "version": "3.12.1"
  },
  "orig_nbformat": 4
 },
 "nbformat": 4,
 "nbformat_minor": 2
}
