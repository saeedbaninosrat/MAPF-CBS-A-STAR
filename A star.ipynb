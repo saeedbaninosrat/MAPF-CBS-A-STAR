{
 "cells": [
  {
   "cell_type": "markdown",
   "metadata": {},
   "source": [
    "# Dictionaries"
   ]
  },
  {
   "cell_type": "code",
   "execution_count": null,
   "metadata": {},
   "outputs": [],
   "source": [
    "import plotly.express as px\n",
    "import random"
   ]
  },
  {
   "cell_type": "markdown",
   "metadata": {},
   "source": [
    "# Classes and functions"
   ]
  },
  {
   "cell_type": "markdown",
   "metadata": {},
   "source": [
    "#### Node"
   ]
  },
  {
   "cell_type": "code",
   "execution_count": null,
   "metadata": {},
   "outputs": [],
   "source": [
    "class Node():\n",
    "    \n",
    "    def __init__(self, parent=None, position=None):\n",
    "        self.parent = parent\n",
    "        self.position = position\n",
    "\n",
    "        self.g = 0\n",
    "        self.h = 0\n",
    "        self.f = 0\n",
    "\n",
    "    def __eq__(self, other):\n",
    "        return self.position == other.position\n",
    "    \n",
    "    def __repr__(self) -> str:\n",
    "        return f\"{self.position}\"\n"
   ]
  },
  {
   "cell_type": "markdown",
   "metadata": {},
   "source": [
    "#### Agent"
   ]
  },
  {
   "cell_type": "code",
   "execution_count": null,
   "metadata": {},
   "outputs": [],
   "source": [
    "class Agent:\n",
    "    def __init__(self, start_position, end_position):\n",
    "        self.start_node = Node(None, start_position)\n",
    "        self.end_node = Node(None, end_position)\n",
    "        self.current_node = Node(None, start_position)\n",
    "\n",
    "        self.open_list = []\n",
    "        self.close_list = []\n",
    "        self.path = []"
   ]
  },
  {
   "cell_type": "markdown",
   "metadata": {},
   "source": [
    "#### Random points Generator"
   ]
  },
  {
   "cell_type": "code",
   "execution_count": null,
   "metadata": {},
   "outputs": [],
   "source": [
    "# Define a function to generate random start and end points\n",
    "def generate_random_points(maze_size):\n",
    "    while True:\n",
    "        start_x = random.randint(0, maze_size - 1)\n",
    "        start_y = random.randint(0, maze_size - 1)\n",
    "        end_x = random.randint(0, maze_size - 1)\n",
    "        end_y = random.randint(0, maze_size - 1)\n",
    "        if (start_x, start_y) != (end_x, end_y):\n",
    "            return (start_x, start_y), (end_x, end_y)\n"
   ]
  },
  {
   "cell_type": "markdown",
   "metadata": {},
   "source": [
    "#### Agent Generator"
   ]
  },
  {
   "cell_type": "code",
   "execution_count": null,
   "metadata": {},
   "outputs": [],
   "source": [
    "def agents(number_of_agents, maze_size):\n",
    "    \n",
    "    agents = []\n",
    "    for _ in range(number_of_agents):\n",
    "        # Update start and end points for each agent\n",
    "        start, end = generate_random_points(maze_size)\n",
    "        agent = Agent(start, end)\n",
    "        agents.append(agent)\n",
    "    return agents\n"
   ]
  },
  {
   "cell_type": "markdown",
   "metadata": {},
   "source": [
    "#### Check if all agents arrived"
   ]
  },
  {
   "cell_type": "code",
   "execution_count": null,
   "metadata": {},
   "outputs": [],
   "source": [
    "def reach_final(agents):\n",
    "    for agent in agents:\n",
    "        if agent.current_node != agent.end_node:\n",
    "            return(False)\n",
    "    return(True)"
   ]
  },
  {
   "cell_type": "markdown",
   "metadata": {},
   "source": [
    "# Main Code"
   ]
  },
  {
   "cell_type": "code",
   "execution_count": null,
   "metadata": {},
   "outputs": [],
   "source": [
    "def astar(maze, agents):\n",
    "    \n",
    "    # Check if Start and End positions are the same\n",
    "    counter = 0\n",
    "    for agent in agents:\n",
    "        counter += 1\n",
    "        if(agent.start_node.position == agent.end_node.position):\n",
    "            raise Exception(\"Start and End positions of Agent \" + str(counter) +\" are same\")\n",
    "        \n",
    "\n",
    "\n",
    "    new_maze = maze\n",
    "    maze_x = len(maze)-1\n",
    "    maze_y = len(maze[0])-1\n",
    "    \n",
    "    counter = 0\n",
    "    for agent in agents:\n",
    "        counter += 1\n",
    "        if(maze[agent.start_node.position[0]][agent.start_node.position[1]] == 0): \n",
    "            raise Exception(\"Start position of Agent \"+str(counter)+ \" is on Block in the position: \" )\n",
    "        if(maze[agent.end_node.position[0]][agent.end_node.position[1]] == 0): \n",
    "            raise Exception(\"End position of Agent \"+str(counter)+\" is on Block in the position: \")\n",
    "    \n",
    "\n",
    "    # Add the agent startnode\n",
    "    counter = 0\n",
    "    for agent in agents:\n",
    "        counter += 1\n",
    "        agent.path.append(agent.current_node)\n",
    "        print(\"Agent \"+ str(counter)  + \" is at: \", agent.current_node.position, \"With the cost of :\" , agent.current_node.g , \"Till now and the heuristic of: \" , agent.current_node.h)\n",
    "        agent.close_list.append(agent.start_node)\n",
    "\n",
    "    # Loop until you find the end\n",
    "    while True:\n",
    "        # Found the goal\n",
    "        if reach_final(agents):\n",
    "            final_paths = []\n",
    "            \n",
    "            for agent in agents:\n",
    "                final_path = []  \n",
    "                goal = agent.path[-1]\n",
    "                while goal is not None:\n",
    "                    final_path.append(goal)\n",
    "                    goal = goal.parent\n",
    "                final_paths.append(final_path)\n",
    "\n",
    "            for final_path in final_paths:\n",
    "                final_path = final_path[::-1]\n",
    "            \n",
    "            try:\n",
    "                longest_list_length = max(map(len, final_paths))\n",
    "                print(\"Longest list length\", longest_list_length)\n",
    "                index_position_agents_conflicts_map = {}\n",
    "                for index in range(longest_list_length):\n",
    "                    index_position_agents_conflicts_map[index] = {}\n",
    "                    conflict_node_map = {}\n",
    "                    for list_index, list_context in enumerate(final_paths, 0):\n",
    "                        if index < len(list_context) - 1:\n",
    "                            element = list_context[index]\n",
    "                            if element.parent.position not in conflict_node_map:\n",
    "                                conflict_node_map[element.parent.position] = []\n",
    "                            conflict_node_map[element.parent.position].append(list_index)\n",
    "                    for conflict_position,conflict_position_agents in conflict_node_map.items():\n",
    "                        if len(conflict_position_agents) > 1:\n",
    "                            index_position_agents_conflicts_map[index][conflict_position] = conflict_position_agents\n",
    "                    print(index, index_position_agents_conflicts_map[index])\n",
    "            except:\n",
    "                print(\"An exception occurred on index \", index)\n",
    "                \n",
    "            for index_postions_agents_conflicts in index_position_agents_conflicts_map.items():\n",
    "                conflict_node_parent_index = index_postions_agents_conflicts[0]\n",
    "                if len(index_postions_agents_conflicts[1]) > 0:  \n",
    "                    list_of_heuroestics = []\n",
    "                    counter = -2\n",
    "                    for conflict_position,conflict_position_agents in index_postions_agents_conflicts[1].items():\n",
    "                        for conflicted_agent in conflict_position_agents:\n",
    "                            counter += 1\n",
    "                            list_of_heuroestics.append(final_paths[conflicted_agent][conflict_node_parent_index].h)\n",
    "                        x = list_of_heuroestics.index(min(list_of_heuroestics))\n",
    "                        stay_node = Node(final_paths[x + counter][conflict_node_parent_index], final_paths[x + counter][conflict_node_parent_index].position)\n",
    "                        final_paths[x + counter][conflict_node_parent_index] = stay_node\n",
    "                        final_paths[x + counter].insert(conflict_node_parent_index, stay_node)\n",
    "                        \n",
    "                \n",
    "            final_path_primes = []    \n",
    "                    \n",
    "            for final_path in final_paths:\n",
    "                final_path_prime = []\n",
    "                goal = final_path[-1]\n",
    "                while goal is not None:\n",
    "                    final_path_prime.append(goal)\n",
    "                    goal = goal.parent\n",
    "                final_path_primes.append(final_path)\n",
    "\n",
    "            for i in final_path_primes:\n",
    "                final_path_prime = final_path_prime[::-1]\n",
    "                print(final_path_prime) # Print reversed path\n",
    "                for path_position in final_path_prime:\n",
    "                    new_maze[path_position.position[0]][path_position.position[1]] = 7\n",
    "            \n",
    "            return(new_maze)\n",
    "        \n",
    "        counter = 0\n",
    "        for agent in agents:\n",
    "            counter += 1\n",
    "            if agent.current_node != agent.end_node:\n",
    "            # Generate children\n",
    "                for new_position in [(0, -1), (0, 1), (-1, 0), (1, 0),(-1, -1), (1, 1), (-1, 1), (1, -1)]: # Adjacent squares\n",
    "\n",
    "                    # Get node position\n",
    "                    adjacent_position = (agent.current_node.position[0] + new_position[0], agent.current_node.position[1] + new_position[1])\n",
    "\n",
    "                    # Make sure within range\n",
    "                    if adjacent_position[0] > maze_x or adjacent_position[0] < 0 or adjacent_position[1] > maze_y or adjacent_position[1] < 0:\n",
    "                        continue\n",
    "\n",
    "                    # Make sure walkable terrain\n",
    "                    if maze[adjacent_position[0]][adjacent_position[1]] == 0:\n",
    "                        continue\n",
    "\n",
    "                    # Create new node\n",
    "                    new_node = Node(agent.current_node, adjacent_position)\n",
    "\n",
    "            \n",
    "                    # Child is on the closed list\n",
    "                    if new_node in agent.close_list:\n",
    "                        continue\n",
    "\n",
    "                    # Create the f, g, and h values\n",
    "                    new_node.g = agent.current_node.g + 1\n",
    "                    new_node.h = ((new_node.position[0] - agent.end_node.position[0]) ** 2) + ((new_node.position[1] - agent.end_node.position[1]) ** 2)\n",
    "                    new_node.f = new_node.g + new_node.h\n",
    "\n",
    "    \n",
    "                    # new_node is already in the open list\n",
    "                    if new_node not in agent.close_list:\n",
    "                        if new_node in agent.open_list:\n",
    "                            conflicted_agent = agent.open_list.index(new_node)\n",
    "                            duplicated = agent.open_list[conflicted_agent]\n",
    "                            if new_node.g < duplicated.g:\n",
    "                                agent.open_list.append(new_node)\n",
    "                        else:\n",
    "                            agent.open_list.append(new_node)\n",
    "            \n",
    "            if len(agent.open_list) > 0 and agent.current_node != agent.end_node:\n",
    "                # Get the agent 1 current node\n",
    "                agent.current_node = agent.open_list[0]\n",
    "                for item in agent.open_list:\n",
    "                    # print(\"openList:\" ,item.position[0],  item.position[1] )\n",
    "                    new_maze[item.position[0]][item.position[1]] = (counter * 2) + 1 # change openlist items colors\n",
    "                    if item.f < agent.current_node.f:\n",
    "                        agent.current_node = item\n",
    "                print(\"Agent \", counter ,\" is at: \", agent.current_node.position, \"With the cost of :\" , agent.current_node.g , \"Till now and the heuristic of: \" , agent.current_node.h)\n",
    "                # Pop current off open list, add to closed list\n",
    "                agent.open_list.remove(agent.current_node)\n",
    "                agent.path.append(agent.current_node)\n",
    "                agent.close_list.append(agent.current_node)"
   ]
  },
  {
   "cell_type": "code",
   "execution_count": null,
   "metadata": {},
   "outputs": [],
   "source": [
    "def create_maze(maze_size, zeros_number):\n",
    "    # Define the size of the maze\n",
    "    maze_size = 15\n",
    "\n",
    "    # Create a new maze with all fives\n",
    "    new_maze = [[5] * maze_size for _ in range(maze_size)]\n",
    "\n",
    "    # Generate 20 random coordinates and set them to zero\n",
    "    zeros_number = 20\n",
    "    zeros_generated = 0\n",
    "\n",
    "    while zeros_generated < zeros_number:\n",
    "        x = random.randint(0, maze_size - 1)\n",
    "        y = random.randint(0, maze_size - 1)\n",
    "        if new_maze[x][y] == 5:\n",
    "            new_maze[x][y] = 0\n",
    "            zeros_generated += 1\n",
    "    maze = []\n",
    "    # Print the new maze\n",
    "    for row in new_maze:\n",
    "        maze.append(row)\n",
    "    return maze\n"
   ]
  },
  {
   "cell_type": "code",
   "execution_count": null,
   "metadata": {},
   "outputs": [],
   "source": [
    "def main():\n",
    "\n",
    "    # maze = [[5, 5, 5, 5, 5, 5, 5, 0, 5, 5, 5, 5, 5, 0, 5],\n",
    "    #         [5, 5, 5, 5, 5, 5, 5, 5, 5, 5, 5, 5, 5, 5, 5],\n",
    "    #         [5, 0, 5, 5, 5, 5, 0, 5, 5, 5, 5, 5, 5, 5, 5],\n",
    "    #         [5, 5, 5, 5, 5, 5, 5, 5, 5, 0, 5, 5, 5, 5, 5],\n",
    "    #         [5, 5, 5, 5, 5, 5, 5, 0, 5, 5, 5, 5, 5, 5, 5],\n",
    "    #         [5, 5, 0, 5, 5, 0, 5, 5, 5, 5, 5, 5, 5, 5, 5],\n",
    "    #         [5, 5, 5, 5, 5, 5, 5, 5, 5, 0, 5, 5, 0, 5, 5],\n",
    "    #         [5, 5, 5, 5, 5, 5, 5, 5, 5, 5, 5, 5, 5, 5, 5],\n",
    "    #         [5, 5, 5, 5, 5, 5, 5, 5, 5, 5, 5, 5, 5, 5, 0],\n",
    "    #         [5, 5, 5, 5, 5, 5, 5, 5, 5, 5, 0, 5, 5, 5, 5],\n",
    "    #         [5, 0, 5, 5, 5, 5, 5, 5, 5, 5, 5, 5, 5, 5, 5],\n",
    "    #         [5, 5, 5, 5, 5, 0, 5, 5, 5, 0, 5, 5, 5, 5, 5],\n",
    "    #         [0, 5, 0, 5, 0, 5, 5, 5, 5, 5, 5, 5, 5, 5, 5],\n",
    "    #         [5, 5, 5, 5, 5, 5, 5, 0, 5, 5, 5, 5, 5, 5, 5],\n",
    "    #         [5, 5, 0, 5, 5, 5, 5, 5, 5, 5, 5, 5, 5, 5, 5]]\n",
    "    maze_size = 15\n",
    "    zeros_number = 40\n",
    "\n",
    "    maze = create_maze(maze_size, zeros_number)\n",
    "    agents = agents(number_of_agents)\n",
    "    \n",
    "\n",
    "\n",
    "    new_maze = astar(maze, agents)\n",
    "    \n",
    "    \n",
    "\n",
    "    fig = px.imshow(new_maze, color_continuous_midpoint=0.0 , range_color= [0,10], color_continuous_scale = 'IceFire' )\n",
    "    fig.show()\n"
   ]
  },
  {
   "cell_type": "code",
   "execution_count": null,
   "metadata": {},
   "outputs": [],
   "source": [
    "main()"
   ]
  }
 ],
 "metadata": {
  "kernelspec": {
   "display_name": "Python 3",
   "language": "python",
   "name": "python3"
  },
  "language_info": {
   "codemirror_mode": {
    "name": "ipython",
    "version": 3
   },
   "file_extension": ".py",
   "mimetype": "text/x-python",
   "name": "python",
   "nbconvert_exporter": "python",
   "pygments_lexer": "ipython3",
   "version": "3.12.1"
  },
  "orig_nbformat": 4
 },
 "nbformat": 4,
 "nbformat_minor": 2
}
