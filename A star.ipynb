{
 "cells": [
  {
   "cell_type": "code",
   "execution_count": 15,
   "metadata": {},
   "outputs": [],
   "source": [
    "import plotly.express as px"
   ]
  },
  {
   "cell_type": "code",
   "execution_count": 16,
   "metadata": {},
   "outputs": [],
   "source": [
    "class Agent:\n",
    "    def __init__(self, start_position, end_position):\n",
    "        self.start = start_position\n",
    "        self.end = end_position\n",
    "        self.current_node = None\n",
    "        self.node_position = None\n"
   ]
  },
  {
   "cell_type": "code",
   "execution_count": 17,
   "metadata": {},
   "outputs": [],
   "source": [
    "class Node():\n",
    "    \n",
    "    def __init__(self, parent=None, position=None):\n",
    "        self.parent = parent\n",
    "        self.position = position\n",
    "\n",
    "        self.g = 0\n",
    "        self.h = 0\n",
    "        self.f = 0\n",
    "\n",
    "    def __eq__(self, other):\n",
    "        return self.position == other.position\n",
    "    \n",
    "    def __repr__(self) -> str:\n",
    "        return self.position\n"
   ]
  },
  {
   "cell_type": "code",
   "execution_count": 18,
   "metadata": {},
   "outputs": [],
   "source": [
    "def astar(maze, agent1, agent2):\n",
    "    \n",
    "    new_maze = maze\n",
    "    \n",
    "    # Create agent1 start and end node\n",
    "    start_node1 = Node(None, agent1.start)\n",
    "    start_node1.g = start_node1.h = start_node1.f = 0\n",
    "    end_node1 = Node(None, agent1.end)\n",
    "    end_node1.g = end_node1.h = end_node1.f = 0\n",
    "    \n",
    "    # Create agent2 start and end node\n",
    "    start_node2 = Node(None, agent2.start)\n",
    "    start_node2.g = start_node2.h = start_node2.f = 0\n",
    "    end_node2 = Node(None, agent2.end)\n",
    "    end_node2.g = end_node2.h = end_node2.f = 0\n",
    "\n",
    "    # Initialize both open and closed list\n",
    "    open_list1  = []\n",
    "    closed_list1 = []\n",
    "    open_list2  = []\n",
    "    closed_list2 = []\n",
    "\n",
    "    # Add the agent1.start node\n",
    "    open_list1.append(start_node1)\n",
    "    open_list2.append(start_node2)\n",
    "\n",
    "    # Loop until you find the end\n",
    "    while len(open_list1) + len(open_list2) > 0:\n",
    "\n",
    "        # Get the agent 1 current node\n",
    "        agent1.current_node = open_list1[0]\n",
    "        for item in open_list1:\n",
    "            # print(\"openList:\" ,item.position[0],  item.position[1] )\n",
    "            new_maze[item.position[0]][item.position[1]] = 6 # change openlist items colors\n",
    "            if item.f < agent1.current_node.f:\n",
    "                agent1.current_node = item\n",
    "        # print(\"we are here: \", agent1.current_node.position, agent1.current_node.g)\n",
    "        \n",
    "        # Get the agent 2 current node\n",
    "        agent2.current_node = open_list2[0]\n",
    "        for item in open_list2:\n",
    "            # print(\"openList:\" ,item.position[0],  item.position[1] )\n",
    "            new_maze[item.position[0]][item.position[1]] = 4 # change openlist items colors\n",
    "            if item.f < agent2.current_node.f:\n",
    "                agent2.current_node = item\n",
    "        # print(\"we are here: \", agent2.current_node.position, agent2.current_node.g)\n",
    "\n",
    "\n",
    "        \n",
    "        \n",
    "        # Pop current off open list, add to closed list\n",
    "        open_list1.remove(agent1.current_node)\n",
    "        closed_list1.append(agent1.current_node)\n",
    "        \n",
    "        # Pop current off open list, add to closed list\n",
    "        open_list2.remove(agent2.current_node)\n",
    "        closed_list2.append(agent2.current_node)\n",
    "\n",
    "\n",
    "\n",
    "        # Found the goal\n",
    "        if agent1.current_node == end_node1:\n",
    "            path1 = []\n",
    "            current1 = agent1.current_node\n",
    "            path2 = []\n",
    "            current2 = agent2.current_node\n",
    "            while current1 is not None:\n",
    "                path1.append(current1.position)\n",
    "                current1 = current1.parent\n",
    "            while current2 is not None:\n",
    "                path1.append(current2.position)\n",
    "                current2 = current2.parent\n",
    "            final_path1 = path1[::-1] \n",
    "            final_path2 = path2[::-1] \n",
    "            \n",
    "            print(final_path1) # Print reversed path1\n",
    "            print(final_path2) # Print reversed path1\n",
    "\n",
    "            for path_position in final_path1:\n",
    "                new_maze[path_position[0]][path_position[1]] = 8\n",
    "\n",
    "            for path_position in final_path2:\n",
    "                new_maze[path_position[0]][path_position[1]] = 2\n",
    "            return(new_maze)\n",
    "        \n",
    "        \n",
    "        # Generate children\n",
    "        children1 = []\n",
    "        for new_position in [(0, -1), (0, 1), (-1, 0), (1, 0),(-1, -1), (1, 1), (-1, 1), (1, -1)]: # Adjacent squares\n",
    "\n",
    "            # Get node position\n",
    "            agent1.node_position = (agent1.current_node.position[0] + new_position[0], agent1.current_node.position[1] + new_position[1])\n",
    "\n",
    "            # Make sure within range\n",
    "            if agent1.node_position[0] > (len(maze) - 1) or agent1.node_position[0] < 0 or agent1.node_position[1] > (len(maze[len(maze)-1]) -1) or agent1.node_position[1] < 0:\n",
    "                continue\n",
    "\n",
    "            # Make sure walkable terrain\n",
    "            if maze[agent1.node_position[0]][agent1.node_position[1]] != 5:\n",
    "                continue\n",
    "\n",
    "            # Create new node\n",
    "            new_node = Node(agent1.current_node, agent1.node_position)\n",
    "\n",
    "            # Append\n",
    "            children1.append(new_node)\n",
    "                    \n",
    "        # Generate children\n",
    "        children2 = []\n",
    "        for new_position in [(0, -1), (0, 1), (-1, 0), (1, 0),(-1, -1), (1, 1), (-1, 1), (1, -1)]: # Adjacent squares\n",
    "\n",
    "            # Get node position\n",
    "            agent2.node_position = (agent2.current_node.position[0] + new_position[0], agent2.current_node.position[1] + new_position[1])\n",
    "\n",
    "            # Make sure within range\n",
    "            if agent2.node_position[0] > (len(maze) - 1) or agent2.node_position[0] < 0 or agent2.node_position[1] > (len(maze[len(maze)-1]) -1) or agent2.node_position[1] < 0:\n",
    "                continue\n",
    "\n",
    "            # Make sure walkable terrain\n",
    "            if maze[agent2.node_position[0]][agent2.node_position[1]] != 5:\n",
    "                continue\n",
    "\n",
    "            # Create new node\n",
    "            new_node = Node(agent2.current_node, agent2.node_position)\n",
    "\n",
    "            # Append\n",
    "            children2.append(new_node)\n",
    "\n",
    "        # Loop through children\n",
    "        for child in children1:\n",
    "\n",
    "            # Child is on the closed list\n",
    "            if child in closed_list1:\n",
    "                continue\n",
    "\n",
    "            # Create the f, g, and h values\n",
    "            child.g = agent1.current_node.g + 1\n",
    "            child.h = ((child.position[0] - end_node1.position[0]) ** 2) + ((child.position[1] - end_node1.position[1]) ** 2)\n",
    "            child.f = child.g + child.h\n",
    "\n",
    "            # Child is already in the open list\n",
    "            if child in open_list1:\n",
    "                i = open_list1.index(child)\n",
    "                duplicated = open_list1[i]\n",
    "                if child.g > duplicated.g:\n",
    "                    continue\n",
    "\n",
    "\n",
    "            # Add the child to the open list\n",
    "            open_list1.append(child)\n",
    "\n",
    "\n",
    "        # Loop through children\n",
    "        for child in children2:\n",
    "\n",
    "            # Child is on the closed list\n",
    "            if child in closed_list2:\n",
    "                continue\n",
    "\n",
    "            # Create the f, g, and h values\n",
    "            child.g = agent2.current_node.g + 1\n",
    "            child.h = ((child.position[0] - end_node2.position[0]) ** 2) + ((child.position[1] - end_node2.position[1]) ** 2)\n",
    "            child.f = child.g + child.h\n",
    "\n",
    "            # Child is already in the open list\n",
    "            if child in open_list2:\n",
    "                i = open_list2.index(child)\n",
    "                duplicated = open_list2[i]\n",
    "                if child.g > duplicated.g:\n",
    "                    continue\n",
    "\n",
    "\n",
    "            # Add the child to the open list\n",
    "            open_list2.append(child)\n",
    "\n"
   ]
  },
  {
   "cell_type": "code",
   "execution_count": 19,
   "metadata": {},
   "outputs": [],
   "source": [
    "def main():\n",
    "\n",
    "    maze = [[5, 0, 5, 0, 5, 5, 5, 5, 5, 5],\n",
    "            [5, 0, 5, 0, 5, 5, 5, 5, 5, 5],\n",
    "            [5, 5, 5, 5, 5, 5, 5, 5, 5, 5],\n",
    "            [5, 5, 5, 5, 5, 5, 5, 5, 5, 5],\n",
    "            [5, 5, 5, 5, 5, 5, 5, 5, 5, 5],\n",
    "            [5, 5, 5, 5, 5, 5, 5, 5, 5, 5],\n",
    "            [5, 5, 5, 5, 5, 5, 5, 5, 5, 5],\n",
    "            [5, 5, 5, 5, 5, 5, 5, 5, 5, 5],\n",
    "            [5, 5, 5, 5, 5, 5, 5, 5, 5, 5],\n",
    "            [5, 5, 5, 5, 5, 5, 5, 5, 5, 5]]\n",
    "\n",
    "\n",
    "        \n",
    "    \n",
    "    start1 = (0, 0)\n",
    "    end1 = (0, 8)\n",
    "    agent1 = Agent(start1, end1)\n",
    "    \n",
    "    start2 = (9, 9)\n",
    "    end2 = (9, 1)\n",
    "    agent2 = Agent(start2, end2)\n",
    "\n",
    "    new_maze = astar(maze, agent1, agent2)\n",
    "    \n",
    "    \n",
    "\n",
    "    fig = px.imshow(new_maze, color_continuous_midpoint=0.0, range_color= [0,10], color_continuous_scale = 'IceFire' )\n",
    "    fig.show()\n"
   ]
  },
  {
   "cell_type": "code",
   "execution_count": 20,
   "metadata": {},
   "outputs": [
    {
     "name": "stdout",
     "output_type": "stream",
     "text": [
      "[(9, 9), (9, 8), (9, 7), (9, 6), (9, 5), (9, 4), (9, 3), (8, 2), (0, 0), (1, 0), (2, 1), (1, 2), (2, 3), (1, 4), (0, 5), (0, 6), (0, 7), (0, 8)]\n",
      "[]\n"
     ]
    },
    {
     "data": {
      "application/vnd.plotly.v1+json": {
       "config": {
        "plotlyServerURL": "https://plot.ly"
       },
       "data": [
        {
         "coloraxis": "coloraxis",
         "hovertemplate": "x: %{x}<br>y: %{y}<br>color: %{z}<extra></extra>",
         "name": "0",
         "type": "heatmap",
         "xaxis": "x",
         "yaxis": "y",
         "z": [
          [
           8,
           0,
           6,
           0,
           6,
           8,
           8,
           8,
           8,
           5
          ],
          [
           8,
           0,
           8,
           0,
           8,
           6,
           6,
           6,
           6,
           5
          ],
          [
           6,
           8,
           6,
           8,
           6,
           6,
           5,
           5,
           5,
           5
          ],
          [
           6,
           6,
           6,
           6,
           6,
           5,
           5,
           5,
           5,
           5
          ],
          [
           5,
           5,
           5,
           5,
           5,
           5,
           5,
           5,
           5,
           5
          ],
          [
           5,
           5,
           5,
           5,
           5,
           5,
           5,
           5,
           5,
           5
          ],
          [
           5,
           5,
           5,
           5,
           5,
           5,
           5,
           5,
           5,
           5
          ],
          [
           5,
           5,
           5,
           5,
           5,
           5,
           5,
           5,
           5,
           5
          ],
          [
           4,
           4,
           8,
           4,
           4,
           4,
           4,
           4,
           4,
           4
          ],
          [
           4,
           4,
           4,
           8,
           8,
           8,
           8,
           8,
           8,
           8
          ]
         ]
        }
       ],
       "layout": {
        "coloraxis": {
         "cmax": 10,
         "cmid": 0,
         "cmin": 0,
         "colorscale": [
          [
           0,
           "#000000"
          ],
          [
           0.0625,
           "#001f4d"
          ],
          [
           0.125,
           "#003786"
          ],
          [
           0.1875,
           "#0e58a8"
          ],
          [
           0.25,
           "#217eb8"
          ],
          [
           0.3125,
           "#30a4ca"
          ],
          [
           0.375,
           "#54c8df"
          ],
          [
           0.4375,
           "#9be4ef"
          ],
          [
           0.5,
           "#e1e9d1"
          ],
          [
           0.5625,
           "#f3d573"
          ],
          [
           0.625,
           "#e7b000"
          ],
          [
           0.6875,
           "#da8200"
          ],
          [
           0.75,
           "#c65400"
          ],
          [
           0.8125,
           "#ac2301"
          ],
          [
           0.875,
           "#820000"
          ],
          [
           0.9375,
           "#4c0000"
          ],
          [
           1,
           "#000000"
          ]
         ]
        },
        "margin": {
         "t": 60
        },
        "template": {
         "data": {
          "bar": [
           {
            "error_x": {
             "color": "#2a3f5f"
            },
            "error_y": {
             "color": "#2a3f5f"
            },
            "marker": {
             "line": {
              "color": "#E5ECF6",
              "width": 0.5
             },
             "pattern": {
              "fillmode": "overlay",
              "size": 10,
              "solidity": 0.2
             }
            },
            "type": "bar"
           }
          ],
          "barpolar": [
           {
            "marker": {
             "line": {
              "color": "#E5ECF6",
              "width": 0.5
             },
             "pattern": {
              "fillmode": "overlay",
              "size": 10,
              "solidity": 0.2
             }
            },
            "type": "barpolar"
           }
          ],
          "carpet": [
           {
            "aaxis": {
             "endlinecolor": "#2a3f5f",
             "gridcolor": "white",
             "linecolor": "white",
             "minorgridcolor": "white",
             "startlinecolor": "#2a3f5f"
            },
            "baxis": {
             "endlinecolor": "#2a3f5f",
             "gridcolor": "white",
             "linecolor": "white",
             "minorgridcolor": "white",
             "startlinecolor": "#2a3f5f"
            },
            "type": "carpet"
           }
          ],
          "choropleth": [
           {
            "colorbar": {
             "outlinewidth": 0,
             "ticks": ""
            },
            "type": "choropleth"
           }
          ],
          "contour": [
           {
            "colorbar": {
             "outlinewidth": 0,
             "ticks": ""
            },
            "colorscale": [
             [
              0,
              "#0d0887"
             ],
             [
              0.1111111111111111,
              "#46039f"
             ],
             [
              0.2222222222222222,
              "#7201a8"
             ],
             [
              0.3333333333333333,
              "#9c179e"
             ],
             [
              0.4444444444444444,
              "#bd3786"
             ],
             [
              0.5555555555555556,
              "#d8576b"
             ],
             [
              0.6666666666666666,
              "#ed7953"
             ],
             [
              0.7777777777777778,
              "#fb9f3a"
             ],
             [
              0.8888888888888888,
              "#fdca26"
             ],
             [
              1,
              "#f0f921"
             ]
            ],
            "type": "contour"
           }
          ],
          "contourcarpet": [
           {
            "colorbar": {
             "outlinewidth": 0,
             "ticks": ""
            },
            "type": "contourcarpet"
           }
          ],
          "heatmap": [
           {
            "colorbar": {
             "outlinewidth": 0,
             "ticks": ""
            },
            "colorscale": [
             [
              0,
              "#0d0887"
             ],
             [
              0.1111111111111111,
              "#46039f"
             ],
             [
              0.2222222222222222,
              "#7201a8"
             ],
             [
              0.3333333333333333,
              "#9c179e"
             ],
             [
              0.4444444444444444,
              "#bd3786"
             ],
             [
              0.5555555555555556,
              "#d8576b"
             ],
             [
              0.6666666666666666,
              "#ed7953"
             ],
             [
              0.7777777777777778,
              "#fb9f3a"
             ],
             [
              0.8888888888888888,
              "#fdca26"
             ],
             [
              1,
              "#f0f921"
             ]
            ],
            "type": "heatmap"
           }
          ],
          "heatmapgl": [
           {
            "colorbar": {
             "outlinewidth": 0,
             "ticks": ""
            },
            "colorscale": [
             [
              0,
              "#0d0887"
             ],
             [
              0.1111111111111111,
              "#46039f"
             ],
             [
              0.2222222222222222,
              "#7201a8"
             ],
             [
              0.3333333333333333,
              "#9c179e"
             ],
             [
              0.4444444444444444,
              "#bd3786"
             ],
             [
              0.5555555555555556,
              "#d8576b"
             ],
             [
              0.6666666666666666,
              "#ed7953"
             ],
             [
              0.7777777777777778,
              "#fb9f3a"
             ],
             [
              0.8888888888888888,
              "#fdca26"
             ],
             [
              1,
              "#f0f921"
             ]
            ],
            "type": "heatmapgl"
           }
          ],
          "histogram": [
           {
            "marker": {
             "pattern": {
              "fillmode": "overlay",
              "size": 10,
              "solidity": 0.2
             }
            },
            "type": "histogram"
           }
          ],
          "histogram2d": [
           {
            "colorbar": {
             "outlinewidth": 0,
             "ticks": ""
            },
            "colorscale": [
             [
              0,
              "#0d0887"
             ],
             [
              0.1111111111111111,
              "#46039f"
             ],
             [
              0.2222222222222222,
              "#7201a8"
             ],
             [
              0.3333333333333333,
              "#9c179e"
             ],
             [
              0.4444444444444444,
              "#bd3786"
             ],
             [
              0.5555555555555556,
              "#d8576b"
             ],
             [
              0.6666666666666666,
              "#ed7953"
             ],
             [
              0.7777777777777778,
              "#fb9f3a"
             ],
             [
              0.8888888888888888,
              "#fdca26"
             ],
             [
              1,
              "#f0f921"
             ]
            ],
            "type": "histogram2d"
           }
          ],
          "histogram2dcontour": [
           {
            "colorbar": {
             "outlinewidth": 0,
             "ticks": ""
            },
            "colorscale": [
             [
              0,
              "#0d0887"
             ],
             [
              0.1111111111111111,
              "#46039f"
             ],
             [
              0.2222222222222222,
              "#7201a8"
             ],
             [
              0.3333333333333333,
              "#9c179e"
             ],
             [
              0.4444444444444444,
              "#bd3786"
             ],
             [
              0.5555555555555556,
              "#d8576b"
             ],
             [
              0.6666666666666666,
              "#ed7953"
             ],
             [
              0.7777777777777778,
              "#fb9f3a"
             ],
             [
              0.8888888888888888,
              "#fdca26"
             ],
             [
              1,
              "#f0f921"
             ]
            ],
            "type": "histogram2dcontour"
           }
          ],
          "mesh3d": [
           {
            "colorbar": {
             "outlinewidth": 0,
             "ticks": ""
            },
            "type": "mesh3d"
           }
          ],
          "parcoords": [
           {
            "line": {
             "colorbar": {
              "outlinewidth": 0,
              "ticks": ""
             }
            },
            "type": "parcoords"
           }
          ],
          "pie": [
           {
            "automargin": true,
            "type": "pie"
           }
          ],
          "scatter": [
           {
            "fillpattern": {
             "fillmode": "overlay",
             "size": 10,
             "solidity": 0.2
            },
            "type": "scatter"
           }
          ],
          "scatter3d": [
           {
            "line": {
             "colorbar": {
              "outlinewidth": 0,
              "ticks": ""
             }
            },
            "marker": {
             "colorbar": {
              "outlinewidth": 0,
              "ticks": ""
             }
            },
            "type": "scatter3d"
           }
          ],
          "scattercarpet": [
           {
            "marker": {
             "colorbar": {
              "outlinewidth": 0,
              "ticks": ""
             }
            },
            "type": "scattercarpet"
           }
          ],
          "scattergeo": [
           {
            "marker": {
             "colorbar": {
              "outlinewidth": 0,
              "ticks": ""
             }
            },
            "type": "scattergeo"
           }
          ],
          "scattergl": [
           {
            "marker": {
             "colorbar": {
              "outlinewidth": 0,
              "ticks": ""
             }
            },
            "type": "scattergl"
           }
          ],
          "scattermapbox": [
           {
            "marker": {
             "colorbar": {
              "outlinewidth": 0,
              "ticks": ""
             }
            },
            "type": "scattermapbox"
           }
          ],
          "scatterpolar": [
           {
            "marker": {
             "colorbar": {
              "outlinewidth": 0,
              "ticks": ""
             }
            },
            "type": "scatterpolar"
           }
          ],
          "scatterpolargl": [
           {
            "marker": {
             "colorbar": {
              "outlinewidth": 0,
              "ticks": ""
             }
            },
            "type": "scatterpolargl"
           }
          ],
          "scatterternary": [
           {
            "marker": {
             "colorbar": {
              "outlinewidth": 0,
              "ticks": ""
             }
            },
            "type": "scatterternary"
           }
          ],
          "surface": [
           {
            "colorbar": {
             "outlinewidth": 0,
             "ticks": ""
            },
            "colorscale": [
             [
              0,
              "#0d0887"
             ],
             [
              0.1111111111111111,
              "#46039f"
             ],
             [
              0.2222222222222222,
              "#7201a8"
             ],
             [
              0.3333333333333333,
              "#9c179e"
             ],
             [
              0.4444444444444444,
              "#bd3786"
             ],
             [
              0.5555555555555556,
              "#d8576b"
             ],
             [
              0.6666666666666666,
              "#ed7953"
             ],
             [
              0.7777777777777778,
              "#fb9f3a"
             ],
             [
              0.8888888888888888,
              "#fdca26"
             ],
             [
              1,
              "#f0f921"
             ]
            ],
            "type": "surface"
           }
          ],
          "table": [
           {
            "cells": {
             "fill": {
              "color": "#EBF0F8"
             },
             "line": {
              "color": "white"
             }
            },
            "header": {
             "fill": {
              "color": "#C8D4E3"
             },
             "line": {
              "color": "white"
             }
            },
            "type": "table"
           }
          ]
         },
         "layout": {
          "annotationdefaults": {
           "arrowcolor": "#2a3f5f",
           "arrowhead": 0,
           "arrowwidth": 1
          },
          "autotypenumbers": "strict",
          "coloraxis": {
           "colorbar": {
            "outlinewidth": 0,
            "ticks": ""
           }
          },
          "colorscale": {
           "diverging": [
            [
             0,
             "#8e0152"
            ],
            [
             0.1,
             "#c51b7d"
            ],
            [
             0.2,
             "#de77ae"
            ],
            [
             0.3,
             "#f1b6da"
            ],
            [
             0.4,
             "#fde0ef"
            ],
            [
             0.5,
             "#f7f7f7"
            ],
            [
             0.6,
             "#e6f5d0"
            ],
            [
             0.7,
             "#b8e186"
            ],
            [
             0.8,
             "#7fbc41"
            ],
            [
             0.9,
             "#4d9221"
            ],
            [
             1,
             "#276419"
            ]
           ],
           "sequential": [
            [
             0,
             "#0d0887"
            ],
            [
             0.1111111111111111,
             "#46039f"
            ],
            [
             0.2222222222222222,
             "#7201a8"
            ],
            [
             0.3333333333333333,
             "#9c179e"
            ],
            [
             0.4444444444444444,
             "#bd3786"
            ],
            [
             0.5555555555555556,
             "#d8576b"
            ],
            [
             0.6666666666666666,
             "#ed7953"
            ],
            [
             0.7777777777777778,
             "#fb9f3a"
            ],
            [
             0.8888888888888888,
             "#fdca26"
            ],
            [
             1,
             "#f0f921"
            ]
           ],
           "sequentialminus": [
            [
             0,
             "#0d0887"
            ],
            [
             0.1111111111111111,
             "#46039f"
            ],
            [
             0.2222222222222222,
             "#7201a8"
            ],
            [
             0.3333333333333333,
             "#9c179e"
            ],
            [
             0.4444444444444444,
             "#bd3786"
            ],
            [
             0.5555555555555556,
             "#d8576b"
            ],
            [
             0.6666666666666666,
             "#ed7953"
            ],
            [
             0.7777777777777778,
             "#fb9f3a"
            ],
            [
             0.8888888888888888,
             "#fdca26"
            ],
            [
             1,
             "#f0f921"
            ]
           ]
          },
          "colorway": [
           "#636efa",
           "#EF553B",
           "#00cc96",
           "#ab63fa",
           "#FFA15A",
           "#19d3f3",
           "#FF6692",
           "#B6E880",
           "#FF97FF",
           "#FECB52"
          ],
          "font": {
           "color": "#2a3f5f"
          },
          "geo": {
           "bgcolor": "white",
           "lakecolor": "white",
           "landcolor": "#E5ECF6",
           "showlakes": true,
           "showland": true,
           "subunitcolor": "white"
          },
          "hoverlabel": {
           "align": "left"
          },
          "hovermode": "closest",
          "mapbox": {
           "style": "light"
          },
          "paper_bgcolor": "white",
          "plot_bgcolor": "#E5ECF6",
          "polar": {
           "angularaxis": {
            "gridcolor": "white",
            "linecolor": "white",
            "ticks": ""
           },
           "bgcolor": "#E5ECF6",
           "radialaxis": {
            "gridcolor": "white",
            "linecolor": "white",
            "ticks": ""
           }
          },
          "scene": {
           "xaxis": {
            "backgroundcolor": "#E5ECF6",
            "gridcolor": "white",
            "gridwidth": 2,
            "linecolor": "white",
            "showbackground": true,
            "ticks": "",
            "zerolinecolor": "white"
           },
           "yaxis": {
            "backgroundcolor": "#E5ECF6",
            "gridcolor": "white",
            "gridwidth": 2,
            "linecolor": "white",
            "showbackground": true,
            "ticks": "",
            "zerolinecolor": "white"
           },
           "zaxis": {
            "backgroundcolor": "#E5ECF6",
            "gridcolor": "white",
            "gridwidth": 2,
            "linecolor": "white",
            "showbackground": true,
            "ticks": "",
            "zerolinecolor": "white"
           }
          },
          "shapedefaults": {
           "line": {
            "color": "#2a3f5f"
           }
          },
          "ternary": {
           "aaxis": {
            "gridcolor": "white",
            "linecolor": "white",
            "ticks": ""
           },
           "baxis": {
            "gridcolor": "white",
            "linecolor": "white",
            "ticks": ""
           },
           "bgcolor": "#E5ECF6",
           "caxis": {
            "gridcolor": "white",
            "linecolor": "white",
            "ticks": ""
           }
          },
          "title": {
           "x": 0.05
          },
          "xaxis": {
           "automargin": true,
           "gridcolor": "white",
           "linecolor": "white",
           "ticks": "",
           "title": {
            "standoff": 15
           },
           "zerolinecolor": "white",
           "zerolinewidth": 2
          },
          "yaxis": {
           "automargin": true,
           "gridcolor": "white",
           "linecolor": "white",
           "ticks": "",
           "title": {
            "standoff": 15
           },
           "zerolinecolor": "white",
           "zerolinewidth": 2
          }
         }
        },
        "xaxis": {
         "anchor": "y",
         "constrain": "domain",
         "domain": [
          0,
          1
         ],
         "scaleanchor": "y"
        },
        "yaxis": {
         "anchor": "x",
         "autorange": "reversed",
         "constrain": "domain",
         "domain": [
          0,
          1
         ]
        }
       }
      }
     },
     "metadata": {},
     "output_type": "display_data"
    }
   ],
   "source": [
    "main()"
   ]
  }
 ],
 "metadata": {
  "kernelspec": {
   "display_name": "Python 3",
   "language": "python",
   "name": "python3"
  },
  "language_info": {
   "codemirror_mode": {
    "name": "ipython",
    "version": 3
   },
   "file_extension": ".py",
   "mimetype": "text/x-python",
   "name": "python",
   "nbconvert_exporter": "python",
   "pygments_lexer": "ipython3",
   "version": "3.12.1"
  },
  "orig_nbformat": 4
 },
 "nbformat": 4,
 "nbformat_minor": 2
}
